{
 "cells": [
  {
   "cell_type": "code",
   "execution_count": 1,
   "metadata": {},
   "outputs": [],
   "source": [
    "import pandas as pd\n",
    "import numpy as np\n",
    "import matplotlib.pyplot as plt\n",
    "import seaborn as sns\n",
    "from sklearn.linear_model import LinearRegression, Ridge, RidgeCV, Lasso, LassoCV\n",
    "from sklearn import metrics\n",
    "from sklearn.model_selection import train_test_split, cross_val_score\n",
    "from sklearn.preprocessing import StandardScaler"
   ]
  },
  {
   "cell_type": "code",
   "execution_count": 2,
   "metadata": {},
   "outputs": [],
   "source": [
    "pd.set_option('display.max_columns', None)\n",
    "pd.set_option('display.max_rows', None)"
   ]
  },
  {
   "cell_type": "code",
   "execution_count": 3,
   "metadata": {},
   "outputs": [],
   "source": [
    "df_train = pd.read_csv('./datasets/train_cleaned_eng.csv')\n",
    "df_test = pd.read_csv('./datasets/test_cleaned_eng.csv')"
   ]
  },
  {
   "cell_type": "code",
   "execution_count": 80,
   "metadata": {},
   "outputs": [],
   "source": [
    "def feat_sel(df):\n",
    "    \n",
    "    # Feature Selection for tuning\n",
    "    X_features = ['Id', \n",
    "#                 'lot_area', \n",
    "                'street', \n",
    "#                 'land_cont', \n",
    "                'neighborhood', \n",
    "                'cond_1',\n",
    "#                 'cond_2', \n",
    "                'bldg_type', \n",
    "                'style', \n",
    "                'overall_qual',\n",
    "                'overall_cond',\n",
    "                'yr_built', \n",
    "                'yr_remodeled', \n",
    "                'roof_style', \n",
    "#                 'roof_mater', \n",
    "                'exter_1',\n",
    "#                 'exter_qual',   #\n",
    "                'exter_cond', \n",
    "                'foundation', \n",
    "                'bsmt_cond', \n",
    "                'bsmt_fin_1',\n",
    "#                 'bsmt_fin_1_sf', \n",
    "#                 'bsmt_fin_2', \n",
    "#                 'bsmt_fin_2_sf', \n",
    "#                 'bsmt_sf', \n",
    "#                 'heat',\n",
    "                'cent_air', \n",
    "#                 'gr_liv_area', \n",
    "                'full_bath', \n",
    "                'half_bath', \n",
    "                'bedrooms_gr',\n",
    "#                 'kitchen', \n",
    "                'kitch_qual', \n",
    "                'tot_rooms_gr', \n",
    "                'fireplaces', \n",
    "                'garage_type',\n",
    "                'garage_car_size', \n",
    "                'garage_cond', \n",
    "                'paved_drive', \n",
    "#                 'misc_val',\n",
    "#                 'year_sold',\n",
    "#                 'sale_price', \n",
    "#                 'has_pool', \n",
    "#                 'full_bath_shift',\n",
    "#                 'half_bath_shift', \n",
    "#                 'bedrooms_gr_shift', \n",
    "#                 'fireplaces_shift',\n",
    "#                 'garage_car_size_shift', \n",
    "#                 'lot_area_scaled_mm',\n",
    "#                 'bsmt_fin_1_sf_scaled_mm', \n",
    "#                 'bsmt_fin_2_sf_scaled_mm',\n",
    "#                 'bsmt_sf_scaled_mm', \n",
    "#                 'gr_liv_area_scaled_mm',\n",
    "#                 'tot_rooms_gr_gr_liv_area', \n",
    "#                 'tot_rooms_gr_bedroom_gr',\n",
    "#                 'full_bath_gr_liv_area', \n",
    "                'gar_car_size_overall_qual',\n",
    "#                 'yr_built_overall_qual', \n",
    "                'full_bath_gr_liv_area_log',\n",
    "#                 'tot_rooms_gr_bedroom_gr_log', \n",
    "#                 'lot_area_scaled_mm_log',\n",
    "#                 'gr_liv_area_scaled_mm_log', \n",
    "                'bsmt_fin_1_sf_scaled_mm_log',\n",
    "#                 'bsmt_fin_2_sf_scaled_mm_log', \n",
    "                'bsmt_sf_scaled_mm_log',\n",
    "#                 'bedrooms_gr_shift_log', \n",
    "#                 'tot_rooms_gr_log',\n",
    "                'tot_rooms_gr_gr_liv_area_log',\n",
    "                  'lot_area_log',\n",
    "                  'gr_liv_area_log',\n",
    "#                   'mas_vnr_type'\n",
    "               ]\n",
    "\n",
    "    # https://pandas.pydata.org/pandas-docs/stable/reference/api/pandas.DataFrame.select_dtypes.html\n",
    "    dummies_columns = list(df[X_features].select_dtypes(include='object'))\n",
    "    scalar_columns = list(df[X_features].select_dtypes(exclude='object'))\n",
    "    \n",
    "    if 'sale_price' not in df.columns:\n",
    "        X_test = df[X_features]\n",
    "        X_test = pd.get_dummies(data=X_test, columns=dummies_columns, drop_first=True)\n",
    "        return X_test\n",
    "    else:\n",
    "        Z_train = df[X_features]\n",
    "        Z_train = pd.get_dummies(data=Z_train, columns=dummies_columns, drop_first=True)\n",
    " \n",
    "####################\n",
    "#         X_train, X_validation, y_train, y_validation = train_test_split(Z_train, y, random_state=42)\n",
    "#         sc = StandardScaler()                  \n",
    "        \n",
    "#         Z_train = sc.fit_transform(X_train)\n",
    "#         Z_validation = sc.transform(X_validation)                \n",
    "####################\n",
    "\n",
    "#         Z_train_zip = list(zip(scalar_columns,Z_train))\n",
    "#         Z_validation_zip = list(zip(scalar_columns,Z_validation))\n",
    "        \n",
    "#         Z_train = pd.DataFrame(Z_train_zip, columns = scalar_columns) \n",
    "#         Z_validation = pd.DataFrame(Z_validation_zip, columns = scalar_columns) \n",
    "        \n",
    "#         print(Z_train)\n",
    "#         print(Z_validation)\n",
    "        \n",
    "        return Z_train#, Z_validation\n",
    "\n",
    "y = df_train['sale_price']"
   ]
  },
  {
   "cell_type": "code",
   "execution_count": 83,
   "metadata": {},
   "outputs": [],
   "source": [
    "Z_train_df = feat_sel(df_train)"
   ]
  },
  {
   "cell_type": "code",
   "execution_count": 84,
   "metadata": {},
   "outputs": [],
   "source": [
    "X_train, X_validation, y_train, y_validation = train_test_split(Z_train_df, y, random_state=42)\n",
    "sc = StandardScaler()                  \n",
    "        \n",
    "Z_train = sc.fit_transform(X_train)\n",
    "Z_validation = sc.transform(X_validation)  "
   ]
  },
  {
   "cell_type": "code",
   "execution_count": 85,
   "metadata": {},
   "outputs": [
    {
     "data": {
      "text/plain": [
       "(1536, 94)"
      ]
     },
     "execution_count": 85,
     "metadata": {},
     "output_type": "execute_result"
    }
   ],
   "source": [
    "Z_train.shape"
   ]
  },
  {
   "cell_type": "code",
   "execution_count": 86,
   "metadata": {},
   "outputs": [
    {
     "data": {
      "text/plain": [
       "(513, 94)"
      ]
     },
     "execution_count": 86,
     "metadata": {},
     "output_type": "execute_result"
    }
   ],
   "source": [
    "Z_validation.shape"
   ]
  },
  {
   "cell_type": "code",
   "execution_count": 88,
   "metadata": {},
   "outputs": [
    {
     "data": {
      "text/plain": [
       "Ridge(alpha=10)"
      ]
     },
     "execution_count": 88,
     "metadata": {},
     "output_type": "execute_result"
    }
   ],
   "source": [
    "ridge_model = Ridge(alpha=10)\n",
    "ridge_model.fit(Z_train, y_train)"
   ]
  },
  {
   "cell_type": "code",
   "execution_count": 89,
   "metadata": {},
   "outputs": [
    {
     "name": "stdout",
     "output_type": "stream",
     "text": [
      "Training score: 0.9101423525889385\n",
      "Test score: 0.9152084449554241\n"
     ]
    }
   ],
   "source": [
    "print('Training score:', ridge_model.score(Z_train, y_train))\n",
    "print('Test score:', ridge_model.score(Z_validation, y_validation))  "
   ]
  },
  {
   "cell_type": "code",
   "execution_count": 93,
   "metadata": {},
   "outputs": [],
   "source": [
    "r_alphas = np.logspace(0, 5, 100)   # Get 100 values from 10^0 to 10^5\n",
    "ridge_cv = RidgeCV(alphas=r_alphas, scoring='r2', cv=5)   # 5-fold CV\n",
    "ridge_cv.fit(Z_train, y_train);"
   ]
  },
  {
   "cell_type": "code",
   "execution_count": 99,
   "metadata": {},
   "outputs": [
    {
     "data": {
      "text/plain": [
       "0.8988683153328948"
      ]
     },
     "execution_count": 99,
     "metadata": {},
     "output_type": "execute_result"
    }
   ],
   "source": [
    "ridge_cv.alpha_\n",
    "ridge_cv.best_score_ "
   ]
  },
  {
   "cell_type": "code",
   "execution_count": 97,
   "metadata": {},
   "outputs": [
    {
     "data": {
      "text/plain": [
       "0.9101423525889385"
      ]
     },
     "execution_count": 97,
     "metadata": {},
     "output_type": "execute_result"
    }
   ],
   "source": [
    "ridge_model.score(Z_train, y_train)"
   ]
  },
  {
   "cell_type": "code",
   "execution_count": 101,
   "metadata": {},
   "outputs": [
    {
     "name": "stdout",
     "output_type": "stream",
     "text": [
      "Training score:  0.9140056063325047\n",
      "Test score:  0.9174877007727654\n"
     ]
    }
   ],
   "source": [
    "print('Training score: ', ridge_cv.score(Z_train, y_train))\n",
    "print('Test score: ', ridge_cv.score(Z_validation, y_validation))"
   ]
  },
  {
   "cell_type": "code",
   "execution_count": null,
   "metadata": {},
   "outputs": [],
   "source": []
  },
  {
   "cell_type": "code",
   "execution_count": 105,
   "metadata": {},
   "outputs": [],
   "source": [
    "l_alphas = np.logspace(-3, 0, 100)   # 10^-3 = .001 up to 10^0 = 1\n",
    "lasso_cv = LassoCV(alphas=l_alphas, cv=5, max_iter=50000)\n",
    "lasso_cv.fit(Z_train, y_train);"
   ]
  },
  {
   "cell_type": "code",
   "execution_count": 106,
   "metadata": {},
   "outputs": [
    {
     "data": {
      "text/plain": [
       "1.0"
      ]
     },
     "execution_count": 106,
     "metadata": {},
     "output_type": "execute_result"
    }
   ],
   "source": [
    "lasso_cv.alpha_"
   ]
  },
  {
   "cell_type": "code",
   "execution_count": 107,
   "metadata": {},
   "outputs": [
    {
     "name": "stdout",
     "output_type": "stream",
     "text": [
      "Training score:  0.9143310868288729\n",
      "Test score:  0.9169528888296705\n"
     ]
    }
   ],
   "source": [
    "print('Training score: ', lasso_cv.score(Z_train, y_train))\n",
    "print('Test score: ', lasso_cv.score(Z_validation, y_validation))"
   ]
  },
  {
   "cell_type": "code",
   "execution_count": null,
   "metadata": {},
   "outputs": [],
   "source": []
  },
  {
   "cell_type": "code",
   "execution_count": 108,
   "metadata": {},
   "outputs": [
    {
     "data": {
      "text/plain": [
       "array([ 1.57721788e+03, -1.73253889e+04,  7.05140098e+03,  1.03303546e+04,\n",
       "        2.57385279e+03,  1.87554486e+04,  2.20613969e+03, -3.63804464e+03,\n",
       "        2.12644619e+04,  2.89258113e+03, -3.08027263e+04,  6.28955137e+04,\n",
       "       -3.68954378e+04,  9.61161272e+03,  1.17369640e+04, -4.14164012e+04,\n",
       "        8.20379550e+03,  6.74174575e+04,  6.71378107e+02,  2.63118334e+03,\n",
       "        2.30102050e+03,  1.90915297e+03,  6.27445900e+02,  4.23420301e+03,\n",
       "        8.94423575e+02,  7.45975318e+02,  4.80623677e+02, -3.64762249e+02,\n",
       "        9.71796903e+02,  9.33587497e+02,  2.31880671e+03,  5.68735795e+03,\n",
       "        7.13842883e+03,  6.98487345e+02,  1.43086077e+03,  1.33916473e+03,\n",
       "        1.17849113e+03,  3.40162973e+03,  6.03785357e+03,  1.49874484e+03,\n",
       "        2.14211265e+02,  1.44381669e+03,  1.63490041e+03, -9.09190763e+02,\n",
       "        2.39525419e+02, -9.63636749e+02, -3.30560043e+03, -2.51070710e+03,\n",
       "       -3.02072573e+03,  5.54614760e+02, -1.40193063e+02,  6.75116991e+02,\n",
       "        1.01396538e+03,  1.37106971e+03,  1.64003159e+03,  4.03983307e+02,\n",
       "        3.39354578e+03,  2.90648941e+03, -7.09983848e+02,  1.20553107e+03,\n",
       "       -1.39626291e+03, -3.55176906e+02,  5.13145077e+02,  1.18420663e+03,\n",
       "        4.98261808e+02,  3.00282928e+02,  1.77918714e+03,  1.20098468e+03,\n",
       "        5.40052720e+02,  2.69446272e+02,  2.26514513e+03,  3.39855631e+02,\n",
       "        2.46562637e+03,  1.09804225e+03, -2.03710984e+01,  1.90625701e+03,\n",
       "        2.75904945e+02,  2.46562637e+03,  1.20065194e+01,  1.73347857e+03,\n",
       "        1.33933705e+02, -6.54727726e+03, -1.67864573e+04, -1.85067270e+04,\n",
       "        8.78251862e+02,  8.53977887e+02,  8.37787881e+02,  7.59114188e+01,\n",
       "        2.89974022e+03, -1.09441488e+01,  1.08161761e+03,  1.57942850e+02,\n",
       "        2.10402911e+02,  1.69479393e+03])"
      ]
     },
     "execution_count": 108,
     "metadata": {},
     "output_type": "execute_result"
    }
   ],
   "source": [
    "ridge_cv.coef_"
   ]
  },
  {
   "cell_type": "code",
   "execution_count": 109,
   "metadata": {},
   "outputs": [
    {
     "data": {
      "text/plain": [
       "array([ 1.55136020e+03, -1.93382549e+04,  7.10555740e+03,  1.04728642e+04,\n",
       "        2.48923573e+03,  2.79293117e+04,  1.91926909e+03, -3.37163549e+03,\n",
       "        2.46644038e+04,  2.87601635e+03, -3.32320416e+04,  6.68719985e+04,\n",
       "       -5.76922293e+04,  9.63637956e+03,  1.15348866e+04, -5.01636695e+04,\n",
       "        7.94829593e+03,  8.70318041e+04,  6.56826805e+02,  2.63221098e+03,\n",
       "        2.25540709e+03,  1.83983879e+03,  6.94253168e+02,  4.24137255e+03,\n",
       "        8.17551811e+02,  9.18761887e+02,  3.74553907e+02, -4.74238265e+02,\n",
       "        9.96954886e+02,  9.81000115e+02,  2.29069849e+03,  5.51954628e+03,\n",
       "        7.10424997e+03,  6.55215076e+02,  1.36051556e+03,  1.34135500e+03,\n",
       "        1.19449116e+03,  3.34738370e+03,  5.83230311e+03,  1.53994315e+03,\n",
       "        1.20612627e+02,  1.46697710e+03,  1.70765249e+03, -8.61575586e+02,\n",
       "        2.38452272e+02, -9.36085058e+02, -3.33254813e+03, -2.59807345e+03,\n",
       "       -3.05992613e+03,  5.20161541e+02, -1.06123558e+02,  6.23540289e+02,\n",
       "        1.00307278e+03,  1.32451408e+03,  1.61541442e+03,  4.01674569e+02,\n",
       "        3.50514590e+03,  2.96440926e+03, -4.42649142e+02,  1.39311570e+03,\n",
       "       -1.39683371e+03, -2.36800532e+02,  6.40900701e+02,  1.36269266e+03,\n",
       "        7.06959539e+02,  3.41889162e+02,  1.91231136e+03,  1.35053793e+03,\n",
       "        5.51362026e+02,  2.20626879e+02,  2.49300635e+03,  2.07621629e+02,\n",
       "        4.08404213e+03,  1.08837695e+03, -1.35419790e+02,  1.75141396e+03,\n",
       "        1.90858011e+02,  7.23918841e+02, -1.00968111e+02,  1.64056571e+03,\n",
       "        1.83553724e+02, -6.55530979e+03, -1.64500194e+04, -1.80785323e+04,\n",
       "        6.52273933e+02,  8.06889848e+02,  4.81020890e+02,  8.23536940e+01,\n",
       "        2.65088286e+03, -5.53529805e+02,  1.05043332e+03,  7.96205512e+01,\n",
       "        1.51350535e+02,  1.59328128e+03])"
      ]
     },
     "execution_count": 109,
     "metadata": {},
     "output_type": "execute_result"
    }
   ],
   "source": [
    "lasso_cv.coef_"
   ]
  },
  {
   "cell_type": "code",
   "execution_count": null,
   "metadata": {},
   "outputs": [],
   "source": []
  },
  {
   "cell_type": "code",
   "execution_count": null,
   "metadata": {},
   "outputs": [],
   "source": []
  },
  {
   "cell_type": "code",
   "execution_count": null,
   "metadata": {},
   "outputs": [],
   "source": []
  },
  {
   "cell_type": "code",
   "execution_count": null,
   "metadata": {},
   "outputs": [],
   "source": []
  },
  {
   "cell_type": "code",
   "execution_count": null,
   "metadata": {},
   "outputs": [],
   "source": []
  },
  {
   "cell_type": "code",
   "execution_count": 74,
   "metadata": {},
   "outputs": [],
   "source": [
    "Z_train_df, Z_validation_df = feat_sel(df_train)\n",
    "# X_test_df = feat_sel(df_test)"
   ]
  },
  {
   "cell_type": "code",
   "execution_count": null,
   "metadata": {},
   "outputs": [],
   "source": []
  },
  {
   "cell_type": "code",
   "execution_count": 75,
   "metadata": {},
   "outputs": [
    {
     "data": {
      "text/plain": [
       "(1536, 94)"
      ]
     },
     "execution_count": 75,
     "metadata": {},
     "output_type": "execute_result"
    }
   ],
   "source": [
    "Z_train_df.shape"
   ]
  },
  {
   "cell_type": "code",
   "execution_count": 76,
   "metadata": {},
   "outputs": [
    {
     "data": {
      "text/plain": [
       "(513, 94)"
      ]
     },
     "execution_count": 76,
     "metadata": {},
     "output_type": "execute_result"
    }
   ],
   "source": [
    "Z_validation_df.shape"
   ]
  }
 ],
 "metadata": {
  "kernelspec": {
   "display_name": "Python 3",
   "language": "python",
   "name": "python3"
  },
  "language_info": {
   "codemirror_mode": {
    "name": "ipython",
    "version": 3
   },
   "file_extension": ".py",
   "mimetype": "text/x-python",
   "name": "python",
   "nbconvert_exporter": "python",
   "pygments_lexer": "ipython3",
   "version": "3.8.3"
  }
 },
 "nbformat": 4,
 "nbformat_minor": 4
}
