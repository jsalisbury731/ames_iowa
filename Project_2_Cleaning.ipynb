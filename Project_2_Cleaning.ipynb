{
 "cells": [
  {
   "cell_type": "code",
   "execution_count": 1,
   "metadata": {},
   "outputs": [],
   "source": [
    "import pandas as pd\n",
    "import numpy as np\n",
    "\n",
    "import ames as ames"
   ]
  },
  {
   "cell_type": "code",
   "execution_count": 2,
   "metadata": {},
   "outputs": [],
   "source": [
    "df_train = pd.read_csv('./datasets/train.csv')\n",
    "df_test = pd.read_csv('./datasets/test.csv')"
   ]
  },
  {
   "cell_type": "code",
   "execution_count": 4,
   "metadata": {},
   "outputs": [],
   "source": [
    "df_train_renamed = ames.rename(df_train)\n",
    "df_test_renamed = ames.rename(df_test)"
   ]
  },
  {
   "cell_type": "code",
   "execution_count": 5,
   "metadata": {},
   "outputs": [],
   "source": [
    "df_train_cleaned = ames.map(df_train_renamed)\n",
    "df_test_cleaned = ames.map(df_test_renamed)"
   ]
  },
  {
   "cell_type": "code",
   "execution_count": 6,
   "metadata": {},
   "outputs": [
    {
     "data": {
      "text/plain": [
       "5    1168\n",
       "6     368\n",
       "7     270\n",
       "8     101\n",
       "4      70\n",
       "3      45\n",
       "9      29\n",
       "Name: overall_cond, dtype: int64"
      ]
     },
     "execution_count": 6,
     "metadata": {},
     "output_type": "execute_result"
    }
   ],
   "source": [
    "# Check value_counts for all categorical data\n",
    "\n",
    "# street               # DONE          DON'T USE, 2044 / 7 feature split\n",
    "# land_cont            # DONE          Max: 1843 / Min: 43\n",
    "# neighborhood         # DONE          Max: 310 / Min: 1, 2, 3, 6; NEED TO CHECK MAP AND GROUP SMALL NUMBER\n",
    "# cond_1               # DONE          Combined RRNn/RRNe, RRAn/RRAe\n",
    "# cond_2               # DONE          DO NOT USE\n",
    "# bldg_type            # DONE          Max: 1700 / Min: 46\n",
    "# style                # DONE          COMBINE 1.5Fin and 2.5Fin, 1.5Unf and 2.5Unf\n",
    "# overall_cond         # DONE          Max: 1168 / Min: 4; COMBINE 1, 2, 3 values\n",
    "# roof_style           # DONE          Max: 1619 / Min: 3; DON'T USE AT FIRST\n",
    "# exter_cond           # DONE          COMBINE Gd and Ex, Po and Fa\n",
    "# foundation           # DONE          Max: 926 / Min: 2, 5; CONSIDER COMBINING Wood and Stone\n",
    "# bsmt_cond            # DONE          COMBINE Gd and Ex, Po and Fa\n",
    "# bsmt_fin_1           # DONE          Max: 615 / Min: 102\n",
    "# bsmt_fin_2           # DONE          DON'T USE; Max: 1749 / Min: 23 \n",
    "# bsmt_sf              # DONE          USE AS NUMERICAL\n",
    "# heat                 # DONE          COMBINE NON-GAS METHODS (Wall, Grav, OthW)\n",
    "# cent_air             # DONE          Y: 1910 / N: 141\n",
    "# kitchen              # DONE          COMBINE 0 and 1, 2 and 3\n",
    "# kitch_qual           # DONE          USE AS IS\n",
    "# fireplaces           # DONE          COMBINE 2 and 3 and 4\n",
    "# garage_type          # DONE          USE AS IS\n",
    "# garage_car_size      # DONE          COMBINE 3 and 4 and 5\n",
    "# paved_drive          # DONE          DON'T USE AT FIRST, USE AS IS\n",
    "# has_pool             # DONE          0: 2042 / 1: 9\n",
    "# sale_price           # DONE          Y target\n",
    "\n",
    "# df_train_cleaned['overall_cond'].value_counts()"
   ]
  },
  {
   "cell_type": "code",
   "execution_count": 7,
   "metadata": {},
   "outputs": [],
   "source": [
    "df_test_cleaned.to_csv('./datasets/test_cleaned.csv', index=False)\n",
    "df_train_cleaned.to_csv('./datasets/train_cleaned.csv', index=False)"
   ]
  }
 ],
 "metadata": {
  "kernelspec": {
   "display_name": "Python 3",
   "language": "python",
   "name": "python3"
  },
  "language_info": {
   "codemirror_mode": {
    "name": "ipython",
    "version": 3
   },
   "file_extension": ".py",
   "mimetype": "text/x-python",
   "name": "python",
   "nbconvert_exporter": "python",
   "pygments_lexer": "ipython3",
   "version": "3.8.3"
  }
 },
 "nbformat": 4,
 "nbformat_minor": 4
}
