{
 "cells": [
  {
   "cell_type": "code",
   "execution_count": 2,
   "metadata": {},
   "outputs": [],
   "source": [
    "import pandas as pd\n",
    "import numpy as np\n",
    "import matplotlib.pyplot as plt\n",
    "import seaborn as sns\n",
    "from sklearn.linear_model import LinearRegression\n",
    "from sklearn import metrics\n",
    "from sklearn.model_selection import train_test_split, cross_val_score"
   ]
  },
  {
   "cell_type": "code",
   "execution_count": 3,
   "metadata": {},
   "outputs": [],
   "source": [
    "df = pd.read_csv('./datasets/train_cleaned.csv')\n",
    "df.drop(columns='Unnamed: 0', inplace=True)"
   ]
  },
  {
   "cell_type": "code",
   "execution_count": 4,
   "metadata": {},
   "outputs": [
    {
     "data": {
      "text/html": [
       "<div>\n",
       "<style scoped>\n",
       "    .dataframe tbody tr th:only-of-type {\n",
       "        vertical-align: middle;\n",
       "    }\n",
       "\n",
       "    .dataframe tbody tr th {\n",
       "        vertical-align: top;\n",
       "    }\n",
       "\n",
       "    .dataframe thead th {\n",
       "        text-align: right;\n",
       "    }\n",
       "</style>\n",
       "<table border=\"1\" class=\"dataframe\">\n",
       "  <thead>\n",
       "    <tr style=\"text-align: right;\">\n",
       "      <th></th>\n",
       "      <th>lot_area</th>\n",
       "      <th>street</th>\n",
       "      <th>land_cont</th>\n",
       "      <th>neighborhood</th>\n",
       "      <th>cond_1</th>\n",
       "      <th>cond_2</th>\n",
       "      <th>bldg_type</th>\n",
       "      <th>style</th>\n",
       "      <th>overall_cond</th>\n",
       "      <th>yr_built</th>\n",
       "      <th>...</th>\n",
       "      <th>bedrooms_gr</th>\n",
       "      <th>kitchen</th>\n",
       "      <th>kitch_qual</th>\n",
       "      <th>fireplaces</th>\n",
       "      <th>garage_type</th>\n",
       "      <th>garage_car_size</th>\n",
       "      <th>paved_drive</th>\n",
       "      <th>sale_price</th>\n",
       "      <th>year_sold</th>\n",
       "      <th>has_pool</th>\n",
       "    </tr>\n",
       "  </thead>\n",
       "  <tbody>\n",
       "    <tr>\n",
       "      <th>0</th>\n",
       "      <td>13517</td>\n",
       "      <td>Pave</td>\n",
       "      <td>Lvl</td>\n",
       "      <td>Sawyer</td>\n",
       "      <td>RRAe</td>\n",
       "      <td>Norm</td>\n",
       "      <td>1Fam</td>\n",
       "      <td>2Story</td>\n",
       "      <td>8</td>\n",
       "      <td>1976</td>\n",
       "      <td>...</td>\n",
       "      <td>3</td>\n",
       "      <td>1</td>\n",
       "      <td>Gd</td>\n",
       "      <td>0</td>\n",
       "      <td>Attchd</td>\n",
       "      <td>2</td>\n",
       "      <td>Y</td>\n",
       "      <td>130500</td>\n",
       "      <td>2010</td>\n",
       "      <td>0</td>\n",
       "    </tr>\n",
       "    <tr>\n",
       "      <th>1</th>\n",
       "      <td>11492</td>\n",
       "      <td>Pave</td>\n",
       "      <td>Lvl</td>\n",
       "      <td>SawyerW</td>\n",
       "      <td>Norm</td>\n",
       "      <td>Norm</td>\n",
       "      <td>1Fam</td>\n",
       "      <td>2Story</td>\n",
       "      <td>5</td>\n",
       "      <td>1996</td>\n",
       "      <td>...</td>\n",
       "      <td>4</td>\n",
       "      <td>1</td>\n",
       "      <td>Gd</td>\n",
       "      <td>1</td>\n",
       "      <td>Attchd</td>\n",
       "      <td>2</td>\n",
       "      <td>Y</td>\n",
       "      <td>220000</td>\n",
       "      <td>2009</td>\n",
       "      <td>0</td>\n",
       "    </tr>\n",
       "    <tr>\n",
       "      <th>2</th>\n",
       "      <td>7922</td>\n",
       "      <td>Pave</td>\n",
       "      <td>Lvl</td>\n",
       "      <td>NAmes</td>\n",
       "      <td>Norm</td>\n",
       "      <td>Norm</td>\n",
       "      <td>1Fam</td>\n",
       "      <td>1Story</td>\n",
       "      <td>7</td>\n",
       "      <td>1953</td>\n",
       "      <td>...</td>\n",
       "      <td>3</td>\n",
       "      <td>1</td>\n",
       "      <td>Gd</td>\n",
       "      <td>0</td>\n",
       "      <td>Detchd</td>\n",
       "      <td>1</td>\n",
       "      <td>Y</td>\n",
       "      <td>109000</td>\n",
       "      <td>2010</td>\n",
       "      <td>0</td>\n",
       "    </tr>\n",
       "    <tr>\n",
       "      <th>3</th>\n",
       "      <td>9802</td>\n",
       "      <td>Pave</td>\n",
       "      <td>Lvl</td>\n",
       "      <td>Timber</td>\n",
       "      <td>Norm</td>\n",
       "      <td>Norm</td>\n",
       "      <td>1Fam</td>\n",
       "      <td>2Story</td>\n",
       "      <td>5</td>\n",
       "      <td>2006</td>\n",
       "      <td>...</td>\n",
       "      <td>3</td>\n",
       "      <td>1</td>\n",
       "      <td>TA</td>\n",
       "      <td>0</td>\n",
       "      <td>BuiltIn</td>\n",
       "      <td>2</td>\n",
       "      <td>Y</td>\n",
       "      <td>174000</td>\n",
       "      <td>2010</td>\n",
       "      <td>0</td>\n",
       "    </tr>\n",
       "    <tr>\n",
       "      <th>4</th>\n",
       "      <td>14235</td>\n",
       "      <td>Pave</td>\n",
       "      <td>Lvl</td>\n",
       "      <td>SawyerW</td>\n",
       "      <td>Norm</td>\n",
       "      <td>Norm</td>\n",
       "      <td>1Fam</td>\n",
       "      <td>Fin</td>\n",
       "      <td>8</td>\n",
       "      <td>1900</td>\n",
       "      <td>...</td>\n",
       "      <td>3</td>\n",
       "      <td>1</td>\n",
       "      <td>TA</td>\n",
       "      <td>0</td>\n",
       "      <td>Detchd</td>\n",
       "      <td>2</td>\n",
       "      <td>N</td>\n",
       "      <td>138500</td>\n",
       "      <td>2010</td>\n",
       "      <td>0</td>\n",
       "    </tr>\n",
       "  </tbody>\n",
       "</table>\n",
       "<p>5 rows × 33 columns</p>\n",
       "</div>"
      ],
      "text/plain": [
       "   lot_area street land_cont neighborhood cond_1 cond_2 bldg_type   style  \\\n",
       "0     13517   Pave       Lvl       Sawyer   RRAe   Norm      1Fam  2Story   \n",
       "1     11492   Pave       Lvl      SawyerW   Norm   Norm      1Fam  2Story   \n",
       "2      7922   Pave       Lvl        NAmes   Norm   Norm      1Fam  1Story   \n",
       "3      9802   Pave       Lvl       Timber   Norm   Norm      1Fam  2Story   \n",
       "4     14235   Pave       Lvl      SawyerW   Norm   Norm      1Fam     Fin   \n",
       "\n",
       "   overall_cond  yr_built  ...  bedrooms_gr kitchen kitch_qual fireplaces  \\\n",
       "0             8      1976  ...            3       1         Gd          0   \n",
       "1             5      1996  ...            4       1         Gd          1   \n",
       "2             7      1953  ...            3       1         Gd          0   \n",
       "3             5      2006  ...            3       1         TA          0   \n",
       "4             8      1900  ...            3       1         TA          0   \n",
       "\n",
       "  garage_type garage_car_size paved_drive  sale_price year_sold has_pool  \n",
       "0      Attchd               2           Y      130500      2010        0  \n",
       "1      Attchd               2           Y      220000      2009        0  \n",
       "2      Detchd               1           Y      109000      2010        0  \n",
       "3     BuiltIn               2           Y      174000      2010        0  \n",
       "4      Detchd               2           N      138500      2010        0  \n",
       "\n",
       "[5 rows x 33 columns]"
      ]
     },
     "execution_count": 4,
     "metadata": {},
     "output_type": "execute_result"
    }
   ],
   "source": [
    "df.head()"
   ]
  },
  {
   "cell_type": "code",
   "execution_count": 8,
   "metadata": {},
   "outputs": [],
   "source": [
    "X1 = df[['lot_area', \n",
    "         'land_cont', \n",
    "         'neighborhood', \n",
    "         'cond_1', \n",
    "         'bldg_type', \n",
    "         'style', \n",
    "         'overall_cond', \n",
    "         'yr_built', \n",
    "         'yr_remodeled', \n",
    "         'exter_cond', \n",
    "         'bsmt_sf', \n",
    "         'gr_liv_area', \n",
    "         'full_bath', \n",
    "         'half_bath', \n",
    "         'bedrooms_gr', \n",
    "         'kitch_qual', \n",
    "         'garage_type', \n",
    "         'has_pool', \n",
    "         'year_sold'\n",
    "        ]]\n",
    "\n",
    "X1 = pd.get_dummies(data=X1, columns=['land_cont', 'neighborhood', \n",
    "                                      'cond_1', 'bldg_type', 'style', \n",
    "                                      'exter_cond', 'kitch_qual', \n",
    "                                      'garage_type'], drop_first=True)\n",
    "\n",
    "y = df['sale_price']"
   ]
  },
  {
   "cell_type": "code",
   "execution_count": 9,
   "metadata": {},
   "outputs": [
    {
     "data": {
      "text/plain": [
       "lot_area                 int64\n",
       "overall_cond             int64\n",
       "yr_built                 int64\n",
       "yr_remodeled             int64\n",
       "bsmt_sf                float64\n",
       "                        ...   \n",
       "garage_type_Basment      uint8\n",
       "garage_type_BuiltIn      uint8\n",
       "garage_type_CarPort      uint8\n",
       "garage_type_Detchd       uint8\n",
       "garage_type_None         uint8\n",
       "Length: 61, dtype: object"
      ]
     },
     "execution_count": 9,
     "metadata": {},
     "output_type": "execute_result"
    }
   ],
   "source": [
    "X1.dtypes"
   ]
  },
  {
   "cell_type": "code",
   "execution_count": 10,
   "metadata": {},
   "outputs": [],
   "source": [
    "lr = LinearRegression()"
   ]
  },
  {
   "cell_type": "code",
   "execution_count": 11,
   "metadata": {},
   "outputs": [
    {
     "data": {
      "text/plain": [
       "LinearRegression()"
      ]
     },
     "execution_count": 11,
     "metadata": {},
     "output_type": "execute_result"
    }
   ],
   "source": [
    "lr.fit(X1, y)"
   ]
  },
  {
   "cell_type": "code",
   "execution_count": 12,
   "metadata": {},
   "outputs": [],
   "source": [
    "preds = lr.predict(X1)"
   ]
  },
  {
   "cell_type": "code",
   "execution_count": 13,
   "metadata": {},
   "outputs": [
    {
     "data": {
      "text/plain": [
       "0.8541781441786147"
      ]
     },
     "execution_count": 13,
     "metadata": {},
     "output_type": "execute_result"
    }
   ],
   "source": [
    "metrics.r2_score(y, preds)"
   ]
  },
  {
   "cell_type": "code",
   "execution_count": 16,
   "metadata": {},
   "outputs": [
    {
     "data": {
      "text/plain": [
       "30258.830104127454"
      ]
     },
     "execution_count": 16,
     "metadata": {},
     "output_type": "execute_result"
    }
   ],
   "source": [
    "mse = metrics.mean_squared_error(y, preds)\n",
    "np.sqrt(mse)"
   ]
  }
 ],
 "metadata": {
  "kernelspec": {
   "display_name": "Python 3",
   "language": "python",
   "name": "python3"
  },
  "language_info": {
   "codemirror_mode": {
    "name": "ipython",
    "version": 3
   },
   "file_extension": ".py",
   "mimetype": "text/x-python",
   "name": "python",
   "nbconvert_exporter": "python",
   "pygments_lexer": "ipython3",
   "version": "3.8.3"
  }
 },
 "nbformat": 4,
 "nbformat_minor": 4
}
