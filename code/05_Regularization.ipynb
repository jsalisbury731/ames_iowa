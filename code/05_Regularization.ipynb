{
 "cells": [
  {
   "cell_type": "code",
   "execution_count": 1,
   "metadata": {},
   "outputs": [],
   "source": [
    "# Import libraries\n",
    "\n",
    "import pandas as pd\n",
    "import numpy as np\n",
    "import matplotlib.pyplot as plt\n",
    "import seaborn as sns\n",
    "from sklearn.linear_model import LinearRegression, Ridge, RidgeCV, Lasso, LassoCV\n",
    "from sklearn import metrics\n",
    "from sklearn.model_selection import train_test_split, cross_val_score\n",
    "from sklearn.preprocessing import StandardScaler"
   ]
  },
  {
   "cell_type": "markdown",
   "metadata": {},
   "source": [
    "For the Regularization models, I first loaded the feature selected dataframe and my y target dataframe from my Modelling notebook. I then performed the train/test/split function and fit_transformed the X_train split and transformed the X_validation split."
   ]
  },
  {
   "cell_type": "code",
   "execution_count": 2,
   "metadata": {},
   "outputs": [],
   "source": [
    "# Load necessary dataframes\n",
    "\n",
    "X_train_df = pd.read_csv('../data/X_train_df.csv')\n",
    "y = pd.read_csv('../data/y.csv')"
   ]
  },
  {
   "cell_type": "code",
   "execution_count": 3,
   "metadata": {},
   "outputs": [],
   "source": [
    "# Train/test/split, scale, and fit_transform/transform the data\n",
    "\n",
    "X_train, X_validation, y_train, y_validation = train_test_split(X_train_df, y, random_state=42)\n",
    "sc = StandardScaler()            \n",
    "\n",
    "scalar_columns = list(X_train.select_dtypes(exclude='object'))\n",
    "\n",
    "Z_train = sc.fit_transform(X_train[scalar_columns])\n",
    "Z_validation = sc.transform(X_validation[scalar_columns]) "
   ]
  },
  {
   "cell_type": "markdown",
   "metadata": {},
   "source": [
    "I created my alphas, instantiated and cross-validated the RidgeCV model, and fit my RidgeCV model. I checked the RidgeCV alpha and printed the test scores. I then repeated the process for my LassoCV model and printed the RidgeCV and LassoCV coefficients."
   ]
  },
  {
   "cell_type": "code",
   "execution_count": 4,
   "metadata": {},
   "outputs": [],
   "source": [
    "# Create alphas, instantiate and cross-validate, and fit\n",
    "\n",
    "r_alphas = np.logspace(0, 5, 100)   # Get 100 values from 10^0 to 10^5\n",
    "ridge_cv = RidgeCV(alphas=r_alphas, scoring='r2', cv=5)   # 5-fold CV\n",
    "ridge_cv.fit(Z_train, y_train);"
   ]
  },
  {
   "cell_type": "code",
   "execution_count": 5,
   "metadata": {},
   "outputs": [
    {
     "data": {
      "text/plain": [
       "1.0"
      ]
     },
     "execution_count": 5,
     "metadata": {},
     "output_type": "execute_result"
    }
   ],
   "source": [
    "# Find the optimal alpha value\n",
    "\n",
    "ridge_cv.alpha_\n",
    "# ridge_cv.best_score_ "
   ]
  },
  {
   "cell_type": "code",
   "execution_count": 6,
   "metadata": {},
   "outputs": [
    {
     "name": "stdout",
     "output_type": "stream",
     "text": [
      "Training RidgeCV score:  0.9242596217712693\n",
      "Test RidgeCV score:  0.9232546738290729\n"
     ]
    }
   ],
   "source": [
    "# Print RidgeCV scores\n",
    "\n",
    "print('Training RidgeCV score: ', ridge_cv.score(Z_train, y_train))\n",
    "print('Test RidgeCV score: ', ridge_cv.score(Z_validation, y_validation))"
   ]
  },
  {
   "cell_type": "code",
   "execution_count": 8,
   "metadata": {},
   "outputs": [],
   "source": [
    "# Create alphas, instantiate and cross-validate, and fit\n",
    "\n",
    "l_alphas = np.logspace(-3, 0, 100)   # 10^-3 = .001 up to 10^0 = 1\n",
    "lasso_cv = LassoCV(alphas=l_alphas, cv=5, max_iter=50000)\n",
    "lasso_cv.fit(Z_train, y_train.values.flatten());"
   ]
  },
  {
   "cell_type": "code",
   "execution_count": 9,
   "metadata": {},
   "outputs": [
    {
     "data": {
      "text/plain": [
       "1.0"
      ]
     },
     "execution_count": 9,
     "metadata": {},
     "output_type": "execute_result"
    }
   ],
   "source": [
    "# Find the optimal alpha value\n",
    "\n",
    "lasso_cv.alpha_"
   ]
  },
  {
   "cell_type": "code",
   "execution_count": 10,
   "metadata": {},
   "outputs": [
    {
     "name": "stdout",
     "output_type": "stream",
     "text": [
      "Training LassoCV score:  0.9245471133972424\n",
      "Test LassoCV score:  0.9224535039445056\n"
     ]
    }
   ],
   "source": [
    "# Print LassoCV scores\n",
    "\n",
    "print('Training LassoCV score: ', lasso_cv.score(Z_train, y_train))\n",
    "print('Test LassoCV score: ', lasso_cv.score(Z_validation, y_validation))"
   ]
  },
  {
   "cell_type": "code",
   "execution_count": 11,
   "metadata": {},
   "outputs": [
    {
     "data": {
      "text/plain": [
       "array([[ 1.55430668e+03, -8.50544057e+03,  6.92355164e+03,\n",
       "         9.21319124e+03,  2.75386970e+03,  1.72216415e+04,\n",
       "         2.56468193e+03,  1.93652120e+04,  3.11869307e+03,\n",
       "        -2.66988312e+04,  5.44076093e+04, -3.05182730e+04,\n",
       "         7.99593296e+03,  1.53947315e+03,  1.09782283e+04,\n",
       "        -3.42976435e+03, -3.63080432e+04,  8.35107278e+03,\n",
       "         6.08299001e+04,  1.57837642e+03, -8.67519154e+03,\n",
       "         1.76521024e+02,  2.34888406e+03,  1.89800582e+03,\n",
       "         1.22445807e+03,  3.14573737e+02,  3.69368835e+03,\n",
       "         5.33577508e+01,  3.38522781e+02,  7.33336007e+02,\n",
       "        -2.48081856e+02,  4.51931509e+02, -2.53610319e+02,\n",
       "         2.32664996e+03,  5.36315158e+03,  5.94118680e+03,\n",
       "        -4.04279671e+02,  1.04742740e+03,  6.26810060e+02,\n",
       "         9.97758299e+02,  1.26139386e+03,  5.48230302e+03,\n",
       "         6.36596163e+02, -3.78017724e+02,  1.07836049e+03,\n",
       "         1.37540165e+03, -8.03784824e+02, -3.78710649e+02,\n",
       "        -1.62577462e+03, -4.48512814e+03, -2.20231496e+03,\n",
       "        -3.08049908e+03, -3.11461020e+02, -5.50121752e+02,\n",
       "         3.06540042e+01, -1.10301905e+02,  1.20712993e+03,\n",
       "         1.26939434e+03, -1.15297144e+02,  3.43268155e+03,\n",
       "         2.61268578e+03, -4.07838840e+02,  1.48083063e+03,\n",
       "        -1.05673347e+03, -3.44736058e+02,  7.57603616e+02,\n",
       "         2.08457680e+03,  8.99041907e+02,  5.31081920e+01,\n",
       "        -6.68536312e+02, -1.09518253e+03,  7.78141140e+02,\n",
       "         1.30074554e+02,  2.26786603e+03, -2.24964613e+03,\n",
       "        -9.21439505e+03,  7.02338456e+02, -8.09648991e+03,\n",
       "         4.15040995e+02,  7.02338456e+02,  1.45347568e+03,\n",
       "         3.96969365e+03, -2.28383859e+03, -2.48743404e+03,\n",
       "        -2.10105969e+02,  8.75498106e+02, -2.61320380e+02,\n",
       "         7.02338456e+02,  2.42061693e+02,  1.65222890e+03,\n",
       "        -9.45299980e+01, -5.82351617e+03, -1.40949466e+04,\n",
       "        -1.59427277e+04,  3.47121634e+02,  2.79467524e+02,\n",
       "         9.24520383e+02, -1.88381550e+02,  2.28766001e+03,\n",
       "        -2.41011338e+02,  9.86056886e+02,  3.02625704e+02,\n",
       "        -1.57945109e+02,  1.69445855e+03,  1.18705785e+03,\n",
       "         7.11807125e+03,  6.90372804e+03,  4.71803025e+03,\n",
       "         1.64326693e+04, -3.14255512e+03, -1.16795847e+03,\n",
       "        -5.71044297e+03, -4.46260160e+03]])"
      ]
     },
     "execution_count": 11,
     "metadata": {},
     "output_type": "execute_result"
    }
   ],
   "source": [
    "ridge_cv.coef_"
   ]
  },
  {
   "cell_type": "code",
   "execution_count": 12,
   "metadata": {},
   "outputs": [
    {
     "data": {
      "text/plain": [
       "array([ 1.55079649e+03, -8.31248346e+03,  6.93281858e+03,  9.32871969e+03,\n",
       "        2.69725203e+03,  2.62737847e+04,  2.28454686e+03,  2.26303049e+04,\n",
       "        3.11868910e+03, -2.89012503e+04,  5.82095124e+04, -5.12788306e+04,\n",
       "        8.17994716e+03,  1.55517481e+03,  1.08184654e+04, -2.89760063e+03,\n",
       "       -4.48835455e+04,  8.12703037e+03,  8.02059481e+04,  1.41132413e+03,\n",
       "       -1.10070632e+04,  1.66741465e+02,  2.38405806e+03,  1.93565702e+03,\n",
       "        1.22739180e+03,  3.86803996e+02,  3.73569243e+03,  2.43314811e+01,\n",
       "        5.10786180e+02,  7.31948841e+02, -3.38506468e+02,  5.08007927e+02,\n",
       "       -2.01049491e+02,  2.27727748e+03,  5.20964270e+03,  5.93970359e+03,\n",
       "       -3.17231994e+02,  1.01011524e+03,  6.28797912e+02,  1.00446790e+03,\n",
       "        1.18769283e+03,  5.29119862e+03,  6.96185992e+02, -4.40088324e+02,\n",
       "        1.10255444e+03,  1.40033955e+03, -7.90592434e+02, -3.69364991e+02,\n",
       "       -1.58547354e+03, -4.50539462e+03, -2.20997153e+03, -3.01160567e+03,\n",
       "       -3.88952909e+02, -5.47540345e+02,  2.27548769e+01, -8.84301949e+01,\n",
       "        1.15195068e+03,  1.24811838e+03, -1.26049137e+02,  3.50672699e+03,\n",
       "        2.67134058e+03, -2.04265288e+02,  1.66307937e+03, -1.06435336e+03,\n",
       "       -2.92356833e+02,  8.86510872e+02,  2.24355147e+03,  1.08704580e+03,\n",
       "        8.33632418e+01, -6.38522508e+02, -1.06794555e+03,  7.84195971e+02,\n",
       "        9.15631263e+01,  2.47235359e+03, -2.21642668e+03, -8.93023004e+03,\n",
       "        2.16060717e+03, -7.89730029e+03,  3.03409912e+02,  1.75765966e+00,\n",
       "        1.41038268e+03,  3.93770167e+03, -2.23003739e+03, -2.31286480e+03,\n",
       "       -2.99109634e+02,  7.92541745e+02, -3.31896731e+02,  3.64763441e-02,\n",
       "        1.31073888e+02,  1.58553393e+03, -6.02021103e+01, -5.83510379e+03,\n",
       "       -1.38938886e+04, -1.56571086e+04,  2.14604497e+02,  2.53816451e+02,\n",
       "        6.00812131e+02, -1.67627517e+02,  2.06848469e+03, -6.74443553e+02,\n",
       "        9.54968551e+02,  2.14125759e+02, -2.26724451e+02,  1.57888695e+03,\n",
       "        1.41667161e+03,  8.24322231e+03,  7.80249418e+03,  5.35849300e+03,\n",
       "        1.86191658e+04, -3.23678625e+03, -1.24645069e+03, -5.75854694e+03,\n",
       "       -4.62428207e+03])"
      ]
     },
     "execution_count": 12,
     "metadata": {},
     "output_type": "execute_result"
    }
   ],
   "source": [
    "lasso_cv.coef_"
   ]
  }
 ],
 "metadata": {
  "kernelspec": {
   "display_name": "Python 3",
   "language": "python",
   "name": "python3"
  },
  "language_info": {
   "codemirror_mode": {
    "name": "ipython",
    "version": 3
   },
   "file_extension": ".py",
   "mimetype": "text/x-python",
   "name": "python",
   "nbconvert_exporter": "python",
   "pygments_lexer": "ipython3",
   "version": "3.8.3"
  }
 },
 "nbformat": 4,
 "nbformat_minor": 4
}
