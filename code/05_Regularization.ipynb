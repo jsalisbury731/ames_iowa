{
 "cells": [
  {
   "cell_type": "code",
   "execution_count": 1,
   "metadata": {},
   "outputs": [],
   "source": [
    "# Import libraries\n",
    "\n",
    "import pandas as pd\n",
    "import numpy as np\n",
    "import matplotlib.pyplot as plt\n",
    "import seaborn as sns\n",
    "from sklearn.linear_model import LinearRegression, Ridge, RidgeCV, Lasso, LassoCV\n",
    "from sklearn import metrics\n",
    "from sklearn.model_selection import train_test_split, cross_val_score\n",
    "from sklearn.preprocessing import StandardScaler\n",
    "import pickle"
   ]
  },
  {
   "cell_type": "markdown",
   "metadata": {},
   "source": [
    "For the Regularization models, I first loaded the feature selected dataframe and my y target dataframe from my Modelling notebook. I then performed the train/test/split function and fit_transformed the X_train split and transformed the X_validation split."
   ]
  },
  {
   "cell_type": "code",
   "execution_count": 2,
   "metadata": {},
   "outputs": [],
   "source": [
    "# Load necessary dataframes\n",
    "\n",
    "X_train_df = pd.read_csv('../data/X_train_df.csv')\n",
    "y = pd.read_csv('../data/y.csv')"
   ]
  },
  {
   "cell_type": "code",
   "execution_count": 3,
   "metadata": {},
   "outputs": [],
   "source": [
    "# Train/test/split, scale, and fit_transform/transform the data\n",
    "\n",
    "X_train, X_validation, y_train, y_validation = train_test_split(X_train_df, y, random_state=42)\n",
    "sc = StandardScaler()            \n",
    "\n",
    "scalar_columns = list(X_train.select_dtypes(exclude='object'))\n",
    "\n",
    "Z_train = sc.fit_transform(X_train[scalar_columns])\n",
    "Z_validation = sc.transform(X_validation[scalar_columns]) "
   ]
  },
  {
   "cell_type": "markdown",
   "metadata": {},
   "source": [
    "I created my alphas, instantiated and cross-validated the RidgeCV model, and fit my RidgeCV model. I checked the RidgeCV alpha and printed the test scores. I then repeated the process for my LassoCV model and printed the RidgeCV and LassoCV coefficients."
   ]
  },
  {
   "cell_type": "code",
   "execution_count": 4,
   "metadata": {},
   "outputs": [],
   "source": [
    "# Create alphas, instantiate and cross-validate, and fit\n",
    "\n",
    "r_alphas = np.logspace(0, 5, 100)   # Get 100 values from 10^0 to 10^5\n",
    "ridge_cv = RidgeCV(alphas=r_alphas, scoring='r2', cv=5)   # 5-fold CV\n",
    "ridge_cv.fit(Z_train, y_train);"
   ]
  },
  {
   "cell_type": "code",
   "execution_count": 5,
   "metadata": {},
   "outputs": [
    {
     "data": {
      "text/plain": [
       "1.0"
      ]
     },
     "execution_count": 5,
     "metadata": {},
     "output_type": "execute_result"
    }
   ],
   "source": [
    "# Find the optimal alpha value\n",
    "\n",
    "ridge_cv.alpha_\n",
    "# ridge_cv.best_score_ "
   ]
  },
  {
   "cell_type": "code",
   "execution_count": 6,
   "metadata": {},
   "outputs": [
    {
     "name": "stdout",
     "output_type": "stream",
     "text": [
      "Training RidgeCV score:  0.923570616132344\n",
      "Test RidgeCV score:  0.9236460642441144\n"
     ]
    }
   ],
   "source": [
    "# Print RidgeCV scores\n",
    "\n",
    "print('Training RidgeCV score: ', ridge_cv.score(Z_train, y_train))\n",
    "print('Test RidgeCV score: ', ridge_cv.score(Z_validation, y_validation))"
   ]
  },
  {
   "cell_type": "code",
   "execution_count": 7,
   "metadata": {},
   "outputs": [
    {
     "name": "stderr",
     "output_type": "stream",
     "text": [
      "/Users/jamessalisbury/opt/anaconda3/lib/python3.8/site-packages/sklearn/utils/validation.py:73: DataConversionWarning: A column-vector y was passed when a 1d array was expected. Please change the shape of y to (n_samples, ), for example using ravel().\n",
      "  return f(**kwargs)\n"
     ]
    }
   ],
   "source": [
    "# Create alphas, instantiate and cross-validate, and fit\n",
    "\n",
    "l_alphas = np.logspace(-3, 0, 100)   # 10^-3 = .001 up to 10^0 = 1\n",
    "lasso_cv = LassoCV(alphas=l_alphas, cv=5, max_iter=50000)\n",
    "lasso_cv.fit(Z_train, y_train);"
   ]
  },
  {
   "cell_type": "code",
   "execution_count": 8,
   "metadata": {},
   "outputs": [
    {
     "data": {
      "text/plain": [
       "1.0"
      ]
     },
     "execution_count": 8,
     "metadata": {},
     "output_type": "execute_result"
    }
   ],
   "source": [
    "# Find the optimal alpha value\n",
    "\n",
    "lasso_cv.alpha_"
   ]
  },
  {
   "cell_type": "code",
   "execution_count": 9,
   "metadata": {},
   "outputs": [
    {
     "name": "stdout",
     "output_type": "stream",
     "text": [
      "Training LassoCV score:  0.9238530105960564\n",
      "Test LassoCV score:  0.9229294247079624\n"
     ]
    }
   ],
   "source": [
    "# Print LassoCV scores\n",
    "\n",
    "print('Training LassoCV score: ', lasso_cv.score(Z_train, y_train))\n",
    "print('Test LassoCV score: ', lasso_cv.score(Z_validation, y_validation))"
   ]
  },
  {
   "cell_type": "code",
   "execution_count": 10,
   "metadata": {},
   "outputs": [
    {
     "data": {
      "text/plain": [
       "array([[ 1.49858386e+03, -6.56884617e+03,  6.94965581e+03,\n",
       "         9.77808268e+03,  2.59902253e+03,  1.66217192e+04,\n",
       "         2.63306210e+03,  2.03536579e+04,  3.05404631e+03,\n",
       "        -2.58070624e+04,  5.25452755e+04, -2.88217664e+04,\n",
       "         7.93678927e+03,  1.48179009e+03,  1.07448409e+04,\n",
       "        -3.43860530e+03, -3.85268932e+04,  8.16123908e+03,\n",
       "         6.11282956e+04,  1.74728925e+03, -9.59141459e+03,\n",
       "         5.30209019e+02,  2.31509446e+03,  2.00979604e+03,\n",
       "         1.28214309e+03,  2.62998766e+02,  3.66550958e+03,\n",
       "         9.95033683e+01,  2.81393373e+02,  2.00781228e+02,\n",
       "        -2.04991679e+02,  3.77113573e+02, -2.06710340e+02,\n",
       "         2.25091257e+03,  5.32681992e+03,  5.94204864e+03,\n",
       "        -1.24495594e+02,  9.69404613e+02,  7.39002925e+02,\n",
       "         9.43300964e+02,  3.56607250e+03,  5.40009843e+03,\n",
       "         6.57966774e+02, -3.10750634e+02,  1.04168206e+03,\n",
       "         1.51089289e+03, -1.01053082e+03, -2.18614621e+02,\n",
       "        -1.51499135e+03, -4.43254310e+03, -2.27233979e+03,\n",
       "        -2.94906790e+03, -1.48066501e+02, -4.41153915e+02,\n",
       "         8.59759025e+01, -5.75553465e+01,  1.22995773e+03,\n",
       "         1.23508171e+03, -1.49333640e+02,  3.60569726e+03,\n",
       "         2.85721603e+03, -8.86241801e+01,  1.86409732e+03,\n",
       "        -1.04514079e+03, -1.31543428e+02,  8.87344413e+02,\n",
       "         2.38601012e+03,  1.20373677e+03,  2.27752852e+02,\n",
       "        -2.32112686e+02, -6.07442089e+02,  2.88434269e+02,\n",
       "        -1.70043146e+02,  1.91974047e+03, -2.28987954e+03,\n",
       "        -9.32441487e+03,  6.50742026e+02, -8.03517568e+03,\n",
       "         9.57445229e+01,  6.50742026e+02,  1.14729185e+03,\n",
       "         3.95665589e+03, -2.21874498e+03, -2.43303085e+03,\n",
       "        -1.32507333e+02,  9.41677158e+02, -2.78261833e+02,\n",
       "         6.50742026e+02,  2.54792278e+02,  1.59613549e+03,\n",
       "         6.69431194e+01, -5.92026607e+03, -1.41617456e+04,\n",
       "        -1.59733573e+04,  2.62716031e+02,  2.25760123e+02,\n",
       "         7.32776080e+02, -3.77007006e+02,  2.40616292e+03,\n",
       "        -2.87365112e+02,  9.62741766e+02,  1.84589013e+02,\n",
       "        -6.21633293e+01,  1.74176976e+03,  1.19310724e+03,\n",
       "         7.35739216e+03,  6.98731315e+03,  4.74275131e+03,\n",
       "         1.68604092e+04]])"
      ]
     },
     "execution_count": 10,
     "metadata": {},
     "output_type": "execute_result"
    }
   ],
   "source": [
    "ridge_cv.coef_"
   ]
  },
  {
   "cell_type": "code",
   "execution_count": 11,
   "metadata": {},
   "outputs": [
    {
     "data": {
      "text/plain": [
       "array([ 1.49438284e+03, -6.03878889e+03,  6.95632941e+03,  9.87751978e+03,\n",
       "        2.54137294e+03,  2.54145015e+04,  2.37061065e+03,  2.37779823e+04,\n",
       "        3.06057301e+03, -2.78662116e+04,  5.60948765e+04, -4.89847155e+04,\n",
       "        8.10957175e+03,  1.49366081e+03,  1.05876832e+04, -2.91056536e+03,\n",
       "       -4.74532271e+04,  7.94157427e+03,  8.03061614e+04,  1.58679157e+03,\n",
       "       -1.21602524e+04,  5.31319335e+02,  2.33169781e+03,  2.00744582e+03,\n",
       "        1.28325727e+03,  3.33113558e+02,  3.69228400e+03,  6.46053677e+01,\n",
       "        4.53340959e+02,  1.16910003e+02, -3.11635460e+02,  4.25233658e+02,\n",
       "       -1.66739278e+02,  2.21088982e+03,  5.17840751e+03,  5.96018333e+03,\n",
       "       -1.23478821e+02,  9.09097156e+02,  7.37824006e+02,  9.47515901e+02,\n",
       "        3.52830778e+03,  5.22192246e+03,  7.19653593e+02, -3.71057528e+02,\n",
       "        1.06682383e+03,  1.53742680e+03, -1.00135398e+03, -2.05325470e+02,\n",
       "       -1.47645511e+03, -4.45928549e+03, -2.30820017e+03, -2.91818246e+03,\n",
       "       -2.34393203e+02, -4.40659957e+02,  7.33908000e+01, -3.63049126e+01,\n",
       "        1.16927565e+03,  1.21093484e+03, -1.66426070e+02,  3.68586652e+03,\n",
       "        2.91511758e+03,  1.21945710e+02,  2.05309676e+03, -1.04987276e+03,\n",
       "       -6.92625511e+01,  1.01643571e+03,  2.55037621e+03,  1.39981025e+03,\n",
       "        2.67676309e+02, -1.95584583e+02, -5.72308230e+02,  2.89832371e+02,\n",
       "       -2.11761183e+02,  2.11731901e+03, -2.25130960e+03, -9.05091606e+03,\n",
       "        2.00574802e+03, -7.83954524e+03, -1.38808975e+01,  1.82588241e+00,\n",
       "        1.10360803e+03,  3.92149033e+03, -2.16986807e+03, -2.26665630e+03,\n",
       "       -2.19471025e+02,  8.57106474e+02, -3.51930688e+02,  4.91200998e-02,\n",
       "        1.41748802e+02,  1.52921982e+03,  1.05835702e+02, -5.93324183e+03,\n",
       "       -1.39683444e+04, -1.57074199e+04,  1.54833500e+02,  2.03329029e+02,\n",
       "        4.20627718e+02, -3.54735494e+02,  2.21244732e+03, -6.97568593e+02,\n",
       "        9.27974202e+02,  9.06638552e+01, -1.25489902e+02,  1.64078421e+03,\n",
       "        1.42593098e+03,  8.53745463e+03,  7.92154785e+03,  5.40063553e+03,\n",
       "        1.91749041e+04])"
      ]
     },
     "execution_count": 11,
     "metadata": {},
     "output_type": "execute_result"
    }
   ],
   "source": [
    "lasso_cv.coef_"
   ]
  }
 ],
 "metadata": {
  "kernelspec": {
   "display_name": "Python 3",
   "language": "python",
   "name": "python3"
  },
  "language_info": {
   "codemirror_mode": {
    "name": "ipython",
    "version": 3
   },
   "file_extension": ".py",
   "mimetype": "text/x-python",
   "name": "python",
   "nbconvert_exporter": "python",
   "pygments_lexer": "ipython3",
   "version": "3.8.3"
  }
 },
 "nbformat": 4,
 "nbformat_minor": 4
}
