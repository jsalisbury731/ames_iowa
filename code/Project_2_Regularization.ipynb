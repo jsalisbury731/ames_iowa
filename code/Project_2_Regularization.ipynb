{
 "cells": [
  {
   "cell_type": "code",
   "execution_count": 1,
   "metadata": {},
   "outputs": [],
   "source": [
    "import pandas as pd\n",
    "import numpy as np\n",
    "import matplotlib.pyplot as plt\n",
    "import seaborn as sns\n",
    "from sklearn.linear_model import LinearRegression, Ridge, RidgeCV, Lasso, LassoCV\n",
    "from sklearn import metrics\n",
    "from sklearn.model_selection import train_test_split, cross_val_score\n",
    "from sklearn.preprocessing import StandardScaler"
   ]
  },
  {
   "cell_type": "code",
   "execution_count": 2,
   "metadata": {},
   "outputs": [],
   "source": [
    "df_train = pd.read_csv('./datasets/train_cleaned_eng.csv')\n",
    "df_test = pd.read_csv('./datasets/test_cleaned_eng.csv')"
   ]
  },
  {
   "cell_type": "code",
   "execution_count": 3,
   "metadata": {},
   "outputs": [],
   "source": [
    "def feat_sel(df):\n",
    "    \n",
    "    # Feature Selection for tuning\n",
    "    X_features = ['Id',\n",
    "#                 'lot_area', \n",
    "                'street', \n",
    "#                 'land_cont', \n",
    "                'neighborhood', \n",
    "                'cond_1',\n",
    "#                 'cond_2', \n",
    "                'bldg_type', \n",
    "                'style', \n",
    "                'overall_qual',\n",
    "                'overall_cond',\n",
    "                'yr_built', \n",
    "                'yr_remodeled', \n",
    "                'roof_style', \n",
    "#                 'roof_mater', \n",
    "                'exter_1',\n",
    "#                 'exter_qual',   #\n",
    "                'exter_cond', \n",
    "                'foundation', \n",
    "                'bsmt_cond', \n",
    "                'bsmt_fin_1',\n",
    "#                 'bsmt_fin_1_sf', \n",
    "#                 'bsmt_fin_2', \n",
    "#                 'bsmt_fin_2_sf', \n",
    "#                 'bsmt_sf', \n",
    "#                 'heat',\n",
    "                'cent_air', \n",
    "#                 'gr_liv_area', \n",
    "                'full_bath', \n",
    "                'half_bath', \n",
    "                'bedrooms_gr',\n",
    "#                 'kitchen', \n",
    "                'kitch_qual', \n",
    "                'tot_rooms_gr', \n",
    "                'fireplaces', \n",
    "                'garage_type',\n",
    "                'garage_car_size', \n",
    "                'garage_cond', \n",
    "                'paved_drive', \n",
    "#                 'misc_val',\n",
    "#                 'year_sold',\n",
    "#                 'sale_price', \n",
    "#                 'has_pool', \n",
    "#                 'full_bath_shift',\n",
    "#                 'half_bath_shift', \n",
    "#                 'bedrooms_gr_shift', \n",
    "#                 'fireplaces_shift',\n",
    "#                 'garage_car_size_shift', \n",
    "#                 'lot_area_scaled_mm',\n",
    "#                 'bsmt_fin_1_sf_scaled_mm', \n",
    "#                 'bsmt_fin_2_sf_scaled_mm',\n",
    "#                 'bsmt_sf_scaled_mm', \n",
    "#                 'gr_liv_area_scaled_mm',\n",
    "#                 'tot_rooms_gr_gr_liv_area', \n",
    "#                 'tot_rooms_gr_bedroom_gr',\n",
    "#                 'full_bath_gr_liv_area', \n",
    "                'gar_car_size_overall_qual',\n",
    "#                 'yr_built_overall_qual', \n",
    "                'full_bath_gr_liv_area_log',\n",
    "#                 'tot_rooms_gr_bedroom_gr_log', \n",
    "#                 'lot_area_scaled_mm_log',\n",
    "#                 'gr_liv_area_scaled_mm_log', \n",
    "                'bsmt_fin_1_sf_scaled_mm_log',\n",
    "#                 'bsmt_fin_2_sf_scaled_mm_log', \n",
    "                'bsmt_sf_scaled_mm_log',\n",
    "#                 'bedrooms_gr_shift_log', \n",
    "#                 'tot_rooms_gr_log',\n",
    "                'tot_rooms_gr_gr_liv_area_log',\n",
    "                  'lot_area_log',\n",
    "                  'gr_liv_area_log',\n",
    "#                   'mas_vnr_type'\n",
    "               ]\n",
    "\n",
    "    # https://pandas.pydata.org/pandas-docs/stable/reference/api/pandas.DataFrame.select_dtypes.html\n",
    "    dummies_columns = list(df[X_features].select_dtypes(include='object'))\n",
    "    \n",
    "    \n",
    "    if 'sale_price' not in df.columns:\n",
    "        X_test = df[X_features]\n",
    "        X_test = pd.get_dummies(data=X_test, columns=dummies_columns, drop_first=True)\n",
    "        return X_test\n",
    "    else:\n",
    "        X_train = df[X_features]\n",
    "        return X_train\n",
    "\n",
    "y = df_train['sale_price']"
   ]
  },
  {
   "cell_type": "code",
   "execution_count": 22,
   "metadata": {},
   "outputs": [],
   "source": [
    "X_train = feat_sel(df_train)\n",
    "X_test = feat_sel(df_test)"
   ]
  },
  {
   "cell_type": "code",
   "execution_count": null,
   "metadata": {},
   "outputs": [],
   "source": []
  },
  {
   "cell_type": "code",
   "execution_count": null,
   "metadata": {},
   "outputs": [],
   "source": [
    "# IMPORT PICKLE"
   ]
  },
  {
   "cell_type": "code",
   "execution_count": null,
   "metadata": {},
   "outputs": [],
   "source": []
  },
  {
   "cell_type": "code",
   "execution_count": null,
   "metadata": {},
   "outputs": [],
   "source": []
  },
  {
   "cell_type": "code",
   "execution_count": null,
   "metadata": {},
   "outputs": [],
   "source": []
  },
  {
   "cell_type": "code",
   "execution_count": null,
   "metadata": {},
   "outputs": [],
   "source": []
  },
  {
   "cell_type": "code",
   "execution_count": 23,
   "metadata": {},
   "outputs": [],
   "source": [
    "scalar_columns = list(X_train.select_dtypes(exclude='object'))\n",
    "\n",
    "\n",
    "X_train, X_validation, y_train, y_validation = train_test_split(X_train, y, random_state=42)\n",
    "sc = StandardScaler()                  \n",
    "\n",
    "Z_train = sc.fit_transform(X_train[scalar_columns])\n",
    "Z_validation = sc.transform(X_validation[scalar_columns]) "
   ]
  },
  {
   "cell_type": "code",
   "execution_count": 24,
   "metadata": {},
   "outputs": [
    {
     "data": {
      "text/plain": [
       "(1536, 18)"
      ]
     },
     "execution_count": 24,
     "metadata": {},
     "output_type": "execute_result"
    }
   ],
   "source": [
    "Z_train.shape"
   ]
  },
  {
   "cell_type": "code",
   "execution_count": 25,
   "metadata": {},
   "outputs": [
    {
     "data": {
      "text/plain": [
       "(513, 18)"
      ]
     },
     "execution_count": 25,
     "metadata": {},
     "output_type": "execute_result"
    }
   ],
   "source": [
    "Z_validation.shape"
   ]
  },
  {
   "cell_type": "code",
   "execution_count": 44,
   "metadata": {},
   "outputs": [
    {
     "data": {
      "text/plain": [
       "Ridge(alpha=1)"
      ]
     },
     "execution_count": 44,
     "metadata": {},
     "output_type": "execute_result"
    }
   ],
   "source": [
    "ridge_model = Ridge(alpha=1)\n",
    "ridge_model.fit(Z_train, y_train)"
   ]
  },
  {
   "cell_type": "code",
   "execution_count": 49,
   "metadata": {},
   "outputs": [
    {
     "name": "stdout",
     "output_type": "stream",
     "text": [
      "Training Ridge score: 0.8813161938540166\n",
      "Test Ridge score: 0.8954756019175981\n"
     ]
    }
   ],
   "source": [
    "print('Training Ridge score:', ridge_model.score(Z_train, y_train))\n",
    "print('Test Ridge score:', ridge_model.score(Z_validation, y_validation))  "
   ]
  },
  {
   "cell_type": "code",
   "execution_count": 46,
   "metadata": {},
   "outputs": [],
   "source": [
    "r_alphas = np.logspace(0, 5, 100)   # Get 100 values from 10^0 to 10^5\n",
    "ridge_cv = RidgeCV(alphas=r_alphas, scoring='r2', cv=5)   # 5-fold CV\n",
    "ridge_cv.fit(Z_train, y_train);"
   ]
  },
  {
   "cell_type": "code",
   "execution_count": 47,
   "metadata": {},
   "outputs": [
    {
     "data": {
      "text/plain": [
       "0.8762554244920997"
      ]
     },
     "execution_count": 47,
     "metadata": {},
     "output_type": "execute_result"
    }
   ],
   "source": [
    "# ridge_cv.alpha_\n",
    "ridge_cv.best_score_ "
   ]
  },
  {
   "cell_type": "code",
   "execution_count": 48,
   "metadata": {},
   "outputs": [
    {
     "data": {
      "text/plain": [
       "0.8813161938540166"
      ]
     },
     "execution_count": 48,
     "metadata": {},
     "output_type": "execute_result"
    }
   ],
   "source": [
    "ridge_model.score(Z_train, y_train)"
   ]
  },
  {
   "cell_type": "code",
   "execution_count": 50,
   "metadata": {},
   "outputs": [
    {
     "name": "stdout",
     "output_type": "stream",
     "text": [
      "Training RidgeCV score:  0.8813161938540166\n",
      "Test RidgeCV score:  0.8954756019175981\n"
     ]
    }
   ],
   "source": [
    "print('Training RidgeCV score: ', ridge_cv.score(Z_train, y_train))\n",
    "print('Test RidgeCV score: ', ridge_cv.score(Z_validation, y_validation))"
   ]
  },
  {
   "cell_type": "code",
   "execution_count": 14,
   "metadata": {},
   "outputs": [],
   "source": [
    "l_alphas = np.logspace(-3, 0, 100)   # 10^-3 = .001 up to 10^0 = 1\n",
    "lasso_cv = LassoCV(alphas=l_alphas, cv=5, max_iter=50000)\n",
    "lasso_cv.fit(Z_train, y_train);"
   ]
  },
  {
   "cell_type": "code",
   "execution_count": 15,
   "metadata": {},
   "outputs": [
    {
     "data": {
      "text/plain": [
       "1.0"
      ]
     },
     "execution_count": 15,
     "metadata": {},
     "output_type": "execute_result"
    }
   ],
   "source": [
    "lasso_cv.alpha_"
   ]
  },
  {
   "cell_type": "code",
   "execution_count": 51,
   "metadata": {},
   "outputs": [
    {
     "name": "stdout",
     "output_type": "stream",
     "text": [
      "Training LassoCV score:  0.8816577047040306\n",
      "Test LassoCV score:  0.8947289572783704\n"
     ]
    }
   ],
   "source": [
    "print('Training LassoCV score: ', lasso_cv.score(Z_train, y_train))\n",
    "print('Test LassoCV score: ', lasso_cv.score(Z_validation, y_validation))"
   ]
  },
  {
   "cell_type": "code",
   "execution_count": 17,
   "metadata": {},
   "outputs": [
    {
     "data": {
      "text/plain": [
       "array([  1144.64876423, -25645.01942111,   7595.11815838,  11298.83145143,\n",
       "         3102.23709454,  15031.65111386,    403.72346257,  -5539.90756224,\n",
       "        30207.89675564,   3751.34455271, -46911.21563705,  96488.886475  ,\n",
       "       -32426.96044208,   9826.5092647 ,   9123.62802456, -58681.16502173,\n",
       "         8853.97097899,  78508.1412782 ])"
      ]
     },
     "execution_count": 17,
     "metadata": {},
     "output_type": "execute_result"
    }
   ],
   "source": [
    "ridge_cv.coef_"
   ]
  },
  {
   "cell_type": "code",
   "execution_count": 18,
   "metadata": {},
   "outputs": [
    {
     "data": {
      "text/plain": [
       "array([  1100.21823093, -27434.55148592,   7752.49818572,  11619.35521023,\n",
       "         3040.81327515,  22884.87650116,    169.63801539,  -5220.87278266,\n",
       "        33735.05398082,   3740.04818375, -48570.52914549,  99568.6613803 ,\n",
       "       -50438.53910444,   9746.60965819,   9065.62454563, -68011.14349897,\n",
       "         8731.18952565,  96586.67539116])"
      ]
     },
     "execution_count": 18,
     "metadata": {},
     "output_type": "execute_result"
    }
   ],
   "source": [
    "lasso_cv.coef_"
   ]
  },
  {
   "cell_type": "code",
   "execution_count": 19,
   "metadata": {},
   "outputs": [
    {
     "data": {
      "text/plain": [
       "(1536, 18)"
      ]
     },
     "execution_count": 19,
     "metadata": {},
     "output_type": "execute_result"
    }
   ],
   "source": [
    "Z_train.shape"
   ]
  },
  {
   "cell_type": "code",
   "execution_count": 20,
   "metadata": {},
   "outputs": [
    {
     "data": {
      "text/plain": [
       "(513, 18)"
      ]
     },
     "execution_count": 20,
     "metadata": {},
     "output_type": "execute_result"
    }
   ],
   "source": [
    "Z_validation.shape"
   ]
  },
  {
   "cell_type": "code",
   "execution_count": null,
   "metadata": {},
   "outputs": [],
   "source": []
  },
  {
   "cell_type": "code",
   "execution_count": null,
   "metadata": {},
   "outputs": [],
   "source": []
  },
  {
   "cell_type": "code",
   "execution_count": null,
   "metadata": {},
   "outputs": [],
   "source": []
  }
 ],
 "metadata": {
  "kernelspec": {
   "display_name": "Python 3",
   "language": "python",
   "name": "python3"
  },
  "language_info": {
   "codemirror_mode": {
    "name": "ipython",
    "version": 3
   },
   "file_extension": ".py",
   "mimetype": "text/x-python",
   "name": "python",
   "nbconvert_exporter": "python",
   "pygments_lexer": "ipython3",
   "version": "3.8.3"
  }
 },
 "nbformat": 4,
 "nbformat_minor": 4
}
