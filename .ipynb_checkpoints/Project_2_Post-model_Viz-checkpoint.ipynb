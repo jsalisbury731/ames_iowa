{
 "cells": [
  {
   "cell_type": "code",
   "execution_count": 3,
   "metadata": {},
   "outputs": [],
   "source": [
    "# Import standard libraries and relevant SKLearn modules\n",
    "\n",
    "import pandas as pd\n",
    "import numpy as np\n",
    "import matplotlib.pyplot as plt\n",
    "import seaborn as sns\n",
    "from sklearn.linear_model import LinearRegression\n",
    "from sklearn import metrics\n",
    "from sklearn.model_selection import train_test_split, cross_val_score\n",
    "import pickle"
   ]
  },
  {
   "cell_type": "code",
   "execution_count": 4,
   "metadata": {},
   "outputs": [],
   "source": [
    "# Read in pickled LR model\n",
    "\n",
    "pickled_lr = pickle.load(open('./assets/lr.pkl', 'rb'))"
   ]
  },
  {
   "cell_type": "code",
   "execution_count": 6,
   "metadata": {},
   "outputs": [],
   "source": [
    "# Visualizing coefficient weights was adadpted from code provided by Charlie\n",
    "beta_0 = pickled_lr.intercept_"
   ]
  },
  {
   "cell_type": "code",
   "execution_count": 7,
   "metadata": {},
   "outputs": [
    {
     "ename": "NameError",
     "evalue": "name 'X_train' is not defined",
     "output_type": "error",
     "traceback": [
      "\u001b[0;31m---------------------------------------------------------------------------\u001b[0m",
      "\u001b[0;31mNameError\u001b[0m                                 Traceback (most recent call last)",
      "\u001b[0;32m<ipython-input-7-ad828c805ff2>\u001b[0m in \u001b[0;36m<module>\u001b[0;34m\u001b[0m\n\u001b[0;32m----> 1\u001b[0;31m \u001b[0mpredictor_variables\u001b[0m \u001b[0;34m=\u001b[0m \u001b[0mX_train\u001b[0m\u001b[0;34m.\u001b[0m\u001b[0mcolumns\u001b[0m\u001b[0;34m\u001b[0m\u001b[0;34m\u001b[0m\u001b[0m\n\u001b[0m\u001b[1;32m      2\u001b[0m \u001b[0mcoef_weights\u001b[0m \u001b[0;34m=\u001b[0m \u001b[0mlr\u001b[0m\u001b[0;34m.\u001b[0m\u001b[0mcoef_\u001b[0m\u001b[0;34m\u001b[0m\u001b[0;34m\u001b[0m\u001b[0m\n",
      "\u001b[0;31mNameError\u001b[0m: name 'X_train' is not defined"
     ]
    }
   ],
   "source": [
    "predictor_variables = X_train.columns\n",
    "coef_weights = lr.coef_"
   ]
  },
  {
   "cell_type": "code",
   "execution_count": null,
   "metadata": {},
   "outputs": [],
   "source": [
    "beta_df = pd.DataFrame({'Predictor Variables' : predictor_variables, 'Beta': coef_weights})\n",
    "beta_df = beta_df.set_index('Predictor Variables')\n",
    "beta_df['Absolute_Beta'] = abs(beta_df['Beta'])\n",
    "beta_df = beta_df.sort_values('Absolute_Beta', ascending = False)\n",
    "\n",
    "beta_df_10 = beta_df[:10]"
   ]
  },
  {
   "cell_type": "code",
   "execution_count": null,
   "metadata": {},
   "outputs": [],
   "source": [
    "plt.figure(figsize=(16,10))\n",
    "plt.barh(beta_df_10.index[::-1], beta_df_10['Absolute_Beta'][::-1])\n",
    "plt.yticks(fontsize=20)\n",
    "plt.yticks(fontsize=20)\n",
    "plt.xlabel('Weights', fontsize=25)\n",
    "plt.ylabel('Features', fontsize=25)\n",
    "plt.title(f'10 Most Important Features and Weights', fontsize=30)\n",
    "plt.tight_layout()"
   ]
  },
  {
   "cell_type": "code",
   "execution_count": null,
   "metadata": {},
   "outputs": [],
   "source": [
    "# https://www.geeksforgeeks.org/selecting-rows-in-pandas-dataframe-based-on-conditions/\n",
    "\n",
    "remodeled_2000_2010 = df_train.loc[df_train['yr_remodeled'] >= 2000]\n",
    "remodeled_2000_2010_prebuilt = remodeled_2000_2010.loc[remodeled_2000_2010['yr_built'] < 1980]\n",
    "\n",
    "needs_remodel = df_train.loc[df_train['yr_remodeled'] < 1980]\n",
    "\n",
    "plt.figure(figsize = (15, 10))\n",
    "plt.scatter(remodeled_2000_2010['gr_liv_area'], remodeled_2000_2010['sale_price'], alpha=1, s=5, color='blue')\n",
    "plt.scatter(needs_remodel['gr_liv_area'], needs_remodel['sale_price'], alpha=1, s=5, color='orange')\n",
    "plt.yticks(fontsize=15)\n",
    "plt.yticks(fontsize=15)\n",
    "plt.xlabel('Above Grade Living Area', fontsize=20)\n",
    "plt.ylabel('Sale Price', fontsize=20)\n",
    "plt.title(f'10 Most Important Features and Weights', fontsize=30);"
   ]
  },
  {
   "cell_type": "code",
   "execution_count": null,
   "metadata": {},
   "outputs": [],
   "source": [
    "flip_opportunities = pd.DataFrame()  #columns = [columns]\n",
    "\n",
    "flip_opportunities.head()\n",
    "\n",
    "for i in range(500, 4000, 500):\n",
    "    to_add = needs_remodel.loc[(needs_remodel['gr_liv_area'] > i) & (needs_remodel['gr_liv_area'] <= (i+500))].sort_values(by='sale_price')[:5]\n",
    "    flip_opportunities = flip_opportunities.append(to_add)\n",
    "\n",
    "flip_opportunities = flip_opportunities[['Id', \n",
    "                                         'gr_liv_area',\n",
    "                                         'functional',\n",
    "                                         'bsmt_sf',\n",
    "                                         'street', \n",
    "                                         'exter_1',\n",
    "                                         'bsmt_fin_1',\n",
    "                                         'bsmt_fin_1_sf', \n",
    "                                         'kitch_qual',\n",
    "                                         'lot_area',\n",
    "                                         'neighborhood',\n",
    "                                         'land_cont', \n",
    "                                         'cond_1',\n",
    "                                         'bldg_type', \n",
    "                                         'style', \n",
    "                                         'overall_qual',\n",
    "                                         'overall_cond',\n",
    "                                         'yr_built', \n",
    "                                         'yr_remodeled', \n",
    "                                         'roof_style', \n",
    "                                         'exter_cond', \n",
    "                                         'foundation', \n",
    "                                         'bsmt_qual',\n",
    "                                         'bsmt_cond', \n",
    "                                         'bsmt_expo',\n",
    "                                         'cent_air', \n",
    "                                         'full_bath', \n",
    "                                         'half_bath', \n",
    "                                         'bedrooms_gr', \n",
    "                                         'kitchen',\n",
    "                                         'tot_rooms_gr', \n",
    "                                         'fireplaces', \n",
    "                                         'garage_type',\n",
    "                                         'garage_car_size', \n",
    "                                         'garage_cond', \n",
    "                                         'paved_drive', \n",
    "                                         'bsmt_full_bath',\n",
    "                                         'bsmt_half_bath',\n",
    "                                         'porch_sf',\n",
    "                                        ]]\n",
    "\n",
    "flip_opportunities   # .to_excel()"
   ]
  },
  {
   "cell_type": "code",
   "execution_count": null,
   "metadata": {},
   "outputs": [],
   "source": []
  },
  {
   "cell_type": "code",
   "execution_count": null,
   "metadata": {},
   "outputs": [],
   "source": []
  },
  {
   "cell_type": "code",
   "execution_count": null,
   "metadata": {},
   "outputs": [],
   "source": []
  }
 ],
 "metadata": {
  "kernelspec": {
   "display_name": "Python 3",
   "language": "python",
   "name": "python3"
  },
  "language_info": {
   "codemirror_mode": {
    "name": "ipython",
    "version": 3
   },
   "file_extension": ".py",
   "mimetype": "text/x-python",
   "name": "python",
   "nbconvert_exporter": "python",
   "pygments_lexer": "ipython3",
   "version": "3.8.3"
  }
 },
 "nbformat": 4,
 "nbformat_minor": 4
}
