{
 "cells": [
  {
   "cell_type": "code",
   "execution_count": 1,
   "metadata": {},
   "outputs": [],
   "source": [
    "# Import standard libraries and relevant SKLearn modules\n",
    "\n",
    "import pandas as pd\n",
    "import numpy as np\n",
    "import matplotlib.pyplot as plt\n",
    "import seaborn as sns\n",
    "from sklearn.linear_model import LinearRegression\n",
    "from sklearn import metrics\n",
    "from sklearn.model_selection import train_test_split, cross_val_score"
   ]
  },
  {
   "cell_type": "code",
   "execution_count": 2,
   "metadata": {},
   "outputs": [],
   "source": [
    "# Max columns and rows for easier viewing of certain operations below\n",
    "\n",
    "# pd.set_option('display.max_columns', None)\n",
    "# pd.set_option('display.max_rows', None)"
   ]
  },
  {
   "cell_type": "code",
   "execution_count": 3,
   "metadata": {},
   "outputs": [],
   "source": [
    "# Read in cleaned and engineered datasets\n",
    "\n",
    "df_train = pd.read_csv('./datasets/train_cleaned_eng.csv')\n",
    "df_test = pd.read_csv('./datasets/test_cleaned_eng.csv')"
   ]
  },
  {
   "cell_type": "code",
   "execution_count": 4,
   "metadata": {},
   "outputs": [],
   "source": [
    "# Create function to easily create different feature sets and test on model\n",
    "\n",
    "def feat_sel(df):\n",
    "    \n",
    "    # Feature Selection for tuning\n",
    "    X_features = ['Id', \n",
    "#                 'lot_area', \n",
    "                'street', \n",
    "#                 'land_cont', \n",
    "                'neighborhood', \n",
    "                'cond_1',\n",
    "#                 'cond_2', \n",
    "                'bldg_type', \n",
    "                'style', \n",
    "                'overall_qual',\n",
    "                'overall_cond',\n",
    "                'yr_built', \n",
    "                'yr_remodeled', \n",
    "                'roof_style', \n",
    "#                 'roof_mater', \n",
    "                'exter_1',\n",
    "#                 'exter_qual',\n",
    "                'exter_cond', \n",
    "                'foundation', \n",
    "                'bsmt_qual',\n",
    "                'bsmt_cond', \n",
    "                'bsmt_expo',\n",
    "                'bsmt_fin_1',\n",
    "#                 'bsmt_fin_1_sf', \n",
    "#                 'bsmt_fin_2', \n",
    "#                 'bsmt_fin_2_sf', \n",
    "#                 'bsmt_sf', \n",
    "#                 'heat',\n",
    "                'cent_air', \n",
    "#                 'gr_liv_area', \n",
    "                'full_bath', \n",
    "                'half_bath', \n",
    "#                 'bedrooms_gr', \n",
    "#                 'kitchen', \n",
    "                'kitch_qual', \n",
    "                'tot_rooms_gr', \n",
    "                'fireplaces', \n",
    "                'garage_type',\n",
    "                'garage_car_size', \n",
    "                'garage_cond', \n",
    "                'paved_drive', \n",
    "#                 'misc_val',\n",
    "#                 'year_sold',\n",
    "#                 'sale_price', \n",
    "#                 'has_pool', \n",
    "#                 'full_bath_shift',\n",
    "#                 'half_bath_shift', \n",
    "#                 'bedrooms_gr_shift', \n",
    "#                 'fireplaces_shift',\n",
    "#                 'garage_car_size_shift', \n",
    "#                 'lot_area_scaled_mm',\n",
    "#                 'bsmt_fin_1_sf_scaled_mm', \n",
    "#                 'bsmt_fin_2_sf_scaled_mm',\n",
    "#                 'bsmt_sf_scaled_mm', \n",
    "#                 'gr_liv_area_scaled_mm',\n",
    "#                 'tot_rooms_gr_gr_liv_area', \n",
    "#                 'tot_rooms_gr_bedroom_gr',\n",
    "#                 'full_bath_gr_liv_area', \n",
    "                'gar_car_size_overall_qual',\n",
    "#                 'yr_built_overall_qual', \n",
    "                'full_bath_gr_liv_area_log',\n",
    "#                 'tot_rooms_gr_bedroom_gr_log', \n",
    "#                 'lot_area_scaled_mm_log',\n",
    "#                 'gr_liv_area_scaled_mm_log', \n",
    "                'bsmt_fin_1_sf_scaled_mm_log',\n",
    "                'bsmt_fin_2_sf_scaled_mm_log',\n",
    "                'bsmt_sf_scaled_mm_log',\n",
    "                'bedrooms_gr_shift_log', \n",
    "#                 'tot_rooms_gr_log',\n",
    "                'tot_rooms_gr_gr_liv_area_log',\n",
    "                  'lot_area_log',\n",
    "                  'gr_liv_area_log',\n",
    "#                   'mas_vnr_type',\n",
    "                  'bsmt_baths',\n",
    "#                   'bsmt_full_bath',\n",
    "#                   'bsmt_half_bath',\n",
    "                  'functional',\n",
    "#                   'porch_sf',\n",
    "#                   'functional_mapped',\n",
    "                  'functional_mapped_overall_qual'\n",
    "               ]\n",
    "\n",
    "    # https://pandas.pydata.org/pandas-docs/stable/reference/api/pandas.DataFrame.select_dtypes.html\n",
    "    dummies_columns = list(df[X_features].select_dtypes(include='object'))\n",
    "    \n",
    "    if 'sale_price' not in df.columns:\n",
    "        X_test = df[X_features]\n",
    "        X_test = pd.get_dummies(data=X_test, columns=dummies_columns, drop_first=True)\n",
    "        return X_test\n",
    "    else:\n",
    "        X_train = df[X_features]\n",
    "        X_train = pd.get_dummies(data=X_train, columns=dummies_columns, drop_first=True)\n",
    "        return X_train\n",
    "\n",
    "y = df_train['sale_price']"
   ]
  },
  {
   "cell_type": "code",
   "execution_count": 5,
   "metadata": {},
   "outputs": [],
   "source": [
    "# Run train and test data through feat_sel() function\n",
    "\n",
    "X_train_df = feat_sel(df_train)\n",
    "X_test_df = feat_sel(df_test)"
   ]
  },
  {
   "cell_type": "code",
   "execution_count": 6,
   "metadata": {},
   "outputs": [],
   "source": [
    "# Train, test (validate), split\n",
    "\n",
    "X_train, X_validation, y_train, y_validation = train_test_split(X_train_df, y, random_state=42)\n",
    "\n",
    "y_train_log = y_train.map(np.log)\n",
    "y_validation_log = y_validation.map(np.log)"
   ]
  },
  {
   "cell_type": "code",
   "execution_count": 7,
   "metadata": {},
   "outputs": [
    {
     "data": {
      "text/plain": [
       "LinearRegression()"
      ]
     },
     "execution_count": 7,
     "metadata": {},
     "output_type": "execute_result"
    }
   ],
   "source": [
    "# Instantiate and fit the model\n",
    "\n",
    "lr = LinearRegression()\n",
    "lr.fit(X_train, y_train_log)"
   ]
  },
  {
   "cell_type": "code",
   "execution_count": 8,
   "metadata": {},
   "outputs": [],
   "source": [
    "# Calculate predictions and residuals for the model\n",
    "\n",
    "pred = lr.predict(X_train)\n",
    "residuals = y_train_log - pred\n",
    "\n",
    "validation_pred = lr.predict(X_validation)"
   ]
  },
  {
   "cell_type": "code",
   "execution_count": 9,
   "metadata": {},
   "outputs": [
    {
     "name": "stdout",
     "output_type": "stream",
     "text": [
      "The training MSE is: 0.011190553443831283.\n",
      "The training RMSE is: 0.10578541224493708.\n",
      "The validation MSE is: 0.015821655005975023.\n",
      "The validation RMSE is: 0.12578416039380722.\n"
     ]
    }
   ],
   "source": [
    "# Calculate MSE and RMSE for the data\n",
    "\n",
    "mse_train = metrics.mean_squared_error(y_train_log, pred)   # Compare to mse_validation to see if model is overfit,\n",
    "rmse_train = np.sqrt(mse_train)   # Use this to compare model to model, not representative of $\n",
    "\n",
    "mse_validation = metrics.mean_squared_error(y_validation_log, validation_pred)   # Compare to mse_train to see if model is overfit\n",
    "rmse_validation = np.sqrt(mse_validation)   # Use this to compare model to model, not representative of $\n",
    "\n",
    "print(f'The training MSE is: {mse_train}.')\n",
    "print(f'The training RMSE is: {rmse_train}.')\n",
    "print(f'The validation MSE is: {mse_validation}.')\n",
    "print(f'The validation RMSE is: {rmse_validation}.')"
   ]
  },
  {
   "cell_type": "code",
   "execution_count": 10,
   "metadata": {},
   "outputs": [
    {
     "name": "stdout",
     "output_type": "stream",
     "text": [
      "The training R2 score is: 0.9338265853141221.\n",
      "The validation R2 score is: 0.9067689461417758.\n"
     ]
    }
   ],
   "source": [
    "# R2 training and validation score, closer to 1 the better\n",
    "\n",
    "r2_train = lr.score(X_train, y_train_log)\n",
    "r2_validation = lr.score(X_validation, y_validation_log)\n",
    "\n",
    "print(f'The training R2 score is: {r2_train}.')\n",
    "print(f'The validation R2 score is: {r2_validation}.')"
   ]
  },
  {
   "cell_type": "code",
   "execution_count": 11,
   "metadata": {},
   "outputs": [
    {
     "data": {
      "image/png": "[encoded data removed]",
      "text/plain": [
       "<Figure size 432x288 with 1 Axes>"
      ]
     },
     "metadata": {
      "needs_background": "light"
     },
     "output_type": "display_data"
    }
   ],
   "source": [
    "# View predictions vs. residuals to check the spread\n",
    "\n",
    "plt.scatter(pred, residuals)\n",
    "plt.axhline(0, color='red');"
   ]
  },
  {
   "cell_type": "code",
   "execution_count": 12,
   "metadata": {},
   "outputs": [
    {
     "data": {
      "image/png": "[encoded data removed]",
      "text/plain": [
       "<Figure size 432x288 with 1 Axes>"
      ]
     },
     "metadata": {
      "needs_background": "light"
     },
     "output_type": "display_data"
    }
   ],
   "source": [
    "# View histogram of residusals to determine if somewhat normally distributed\n",
    "\n",
    "residuals.hist();\n",
    "plt.axvline(0, color='red');"
   ]
  },
  {
   "cell_type": "code",
   "execution_count": 13,
   "metadata": {},
   "outputs": [],
   "source": [
    "# Predict SalePrice for my test data\n",
    "\n",
    "SalePrice = lr.predict(X_test_df)"
   ]
  },
  {
   "cell_type": "code",
   "execution_count": 14,
   "metadata": {},
   "outputs": [],
   "source": [
    "# Exponentiate SalePrice to revert from logged values\n",
    "\n",
    "SalePrice = np.exp(SalePrice)"
   ]
  },
  {
   "cell_type": "code",
   "execution_count": 15,
   "metadata": {},
   "outputs": [],
   "source": [
    "# Add SalePrice column to df_test\n",
    "\n",
    "df_test['SalePrice'] = SalePrice"
   ]
  },
  {
   "cell_type": "code",
   "execution_count": 16,
   "metadata": {},
   "outputs": [],
   "source": [
    "# Filter/trim df_test to just the columns needed for the Kaggle submission\n",
    "\n",
    "kaggle = df_test[['Id', 'SalePrice']]"
   ]
  },
  {
   "cell_type": "code",
   "execution_count": 17,
   "metadata": {},
   "outputs": [
    {
     "data": {
      "text/html": [
       "<div>\n",
       "<style scoped>\n",
       "    .dataframe tbody tr th:only-of-type {\n",
       "        vertical-align: middle;\n",
       "    }\n",
       "\n",
       "    .dataframe tbody tr th {\n",
       "        vertical-align: top;\n",
       "    }\n",
       "\n",
       "    .dataframe thead th {\n",
       "        text-align: right;\n",
       "    }\n",
       "</style>\n",
       "<table border=\"1\" class=\"dataframe\">\n",
       "  <thead>\n",
       "    <tr style=\"text-align: right;\">\n",
       "      <th></th>\n",
       "      <th>Id</th>\n",
       "      <th>SalePrice</th>\n",
       "    </tr>\n",
       "  </thead>\n",
       "  <tbody>\n",
       "    <tr>\n",
       "      <th>0</th>\n",
       "      <td>2658</td>\n",
       "      <td>112451.034900</td>\n",
       "    </tr>\n",
       "    <tr>\n",
       "      <th>1</th>\n",
       "      <td>2718</td>\n",
       "      <td>158556.864457</td>\n",
       "    </tr>\n",
       "    <tr>\n",
       "      <th>2</th>\n",
       "      <td>2414</td>\n",
       "      <td>218429.912266</td>\n",
       "    </tr>\n",
       "    <tr>\n",
       "      <th>3</th>\n",
       "      <td>1989</td>\n",
       "      <td>107563.235330</td>\n",
       "    </tr>\n",
       "    <tr>\n",
       "      <th>4</th>\n",
       "      <td>625</td>\n",
       "      <td>164129.120196</td>\n",
       "    </tr>\n",
       "  </tbody>\n",
       "</table>\n",
       "</div>"
      ],
      "text/plain": [
       "     Id      SalePrice\n",
       "0  2658  112451.034900\n",
       "1  2718  158556.864457\n",
       "2  2414  218429.912266\n",
       "3  1989  107563.235330\n",
       "4   625  164129.120196"
      ]
     },
     "execution_count": 17,
     "metadata": {},
     "output_type": "execute_result"
    }
   ],
   "source": [
    "# Check the df head to make sure the numbers look in the approximate range\n",
    "\n",
    "kaggle.head()"
   ]
  },
  {
   "cell_type": "code",
   "execution_count": 18,
   "metadata": {},
   "outputs": [],
   "source": [
    "# Save Kaggle submission to CSV\n",
    "\n",
    "# kaggle.to_csv('./datasets/submissions/jsalisbury_65.csv', index=False)"
   ]
  },
  {
   "cell_type": "code",
   "execution_count": 21,
   "metadata": {},
   "outputs": [
    {
     "name": "stdout",
     "output_type": "stream",
     "text": [
      "Assets folder already exists.\n"
     ]
    }
   ],
   "source": [
    "# Pickling code adapted from Charlie's lesson\n",
    "# Import libraries to create pickle file\n",
    "\n",
    "import pickle\n",
    "import os\n",
    "\n",
    "try:\n",
    "    os.mkdir('assets')\n",
    "except:\n",
    "    print('Assets folder already exists.')"
   ]
  },
  {
   "cell_type": "code",
   "execution_count": 22,
   "metadata": {},
   "outputs": [],
   "source": [
    "# Save the model\n",
    "\n",
    "pickle.dump(lr, open('./assets/lr.pkl', 'wb'))"
   ]
  }
 ],
 "metadata": {
  "kernelspec": {
   "display_name": "Python 3",
   "language": "python",
   "name": "python3"
  },
  "language_info": {
   "codemirror_mode": {
    "name": "ipython",
    "version": 3
   },
   "file_extension": ".py",
   "mimetype": "text/x-python",
   "name": "python",
   "nbconvert_exporter": "python",
   "pygments_lexer": "ipython3",
   "version": "3.8.3"
  }
 },
 "nbformat": 4,
 "nbformat_minor": 4
}
