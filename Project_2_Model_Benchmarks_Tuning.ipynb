{
 "cells": [
  {
   "cell_type": "code",
   "execution_count": 1,
   "metadata": {},
   "outputs": [],
   "source": [
    "import pandas as pd\n",
    "import numpy as np\n",
    "import matplotlib.pyplot as plt\n",
    "import seaborn as sns\n",
    "from sklearn.linear_model import LinearRegression, Ridge, RidgeCV, Lasso, LassoCV\n",
    "from sklearn import metrics\n",
    "from sklearn.model_selection import train_test_split, cross_val_score\n",
    "from sklearn.preprocessing import StandardScaler"
   ]
  },
  {
   "cell_type": "code",
   "execution_count": 2,
   "metadata": {},
   "outputs": [],
   "source": [
    "pd.set_option('display.max_columns', None)\n",
    "pd.set_option('display.max_rows', None)"
   ]
  },
  {
   "cell_type": "code",
   "execution_count": 3,
   "metadata": {},
   "outputs": [],
   "source": [
    "df_train = pd.read_csv('./datasets/train_cleaned_eng.csv')\n",
    "df_test = pd.read_csv('./datasets/test_cleaned_eng.csv')"
   ]
  },
  {
   "cell_type": "code",
   "execution_count": 4,
   "metadata": {},
   "outputs": [],
   "source": [
    "def feat_sel(df):\n",
    "    \n",
    "    # Feature Selection for tuning\n",
    "    X_features = ['Id', \n",
    "#                 'lot_area', \n",
    "                'street', \n",
    "#                 'land_cont', \n",
    "                'neighborhood', \n",
    "                'cond_1',\n",
    "#                 'cond_2', \n",
    "                'bldg_type', \n",
    "                'style', \n",
    "                'overall_qual',\n",
    "                'overall_cond',\n",
    "                'yr_built', \n",
    "                'yr_remodeled', \n",
    "                'roof_style', \n",
    "#                 'roof_mater', \n",
    "                'exter_1',\n",
    "#                 'exter_qual',\n",
    "                'exter_cond', \n",
    "                'foundation', \n",
    "                'bsmt_qual',   #\n",
    "                'bsmt_cond', \n",
    "                'bsmt_expo',\n",
    "                'bsmt_fin_1',\n",
    "#                 'bsmt_fin_1_sf', \n",
    "#                 'bsmt_fin_2', \n",
    "#                 'bsmt_fin_2_sf', \n",
    "#                 'bsmt_sf', \n",
    "#                 'heat',\n",
    "                'cent_air', \n",
    "#                 'gr_liv_area', \n",
    "                'full_bath', \n",
    "                'half_bath', \n",
    "#                 'bedrooms_gr', \n",
    "#                 'kitchen', \n",
    "                'kitch_qual', \n",
    "                'tot_rooms_gr', \n",
    "                'fireplaces', \n",
    "                'garage_type',\n",
    "                'garage_car_size', \n",
    "                'garage_cond', \n",
    "                'paved_drive', \n",
    "#                 'misc_val',\n",
    "#                 'year_sold',\n",
    "#                 'sale_price', \n",
    "#                 'has_pool', \n",
    "#                 'full_bath_shift',\n",
    "#                 'half_bath_shift', \n",
    "#                 'bedrooms_gr_shift', \n",
    "#                 'fireplaces_shift',\n",
    "#                 'garage_car_size_shift', \n",
    "#                 'lot_area_scaled_mm',\n",
    "#                 'bsmt_fin_1_sf_scaled_mm', \n",
    "#                 'bsmt_fin_2_sf_scaled_mm',\n",
    "#                 'bsmt_sf_scaled_mm', \n",
    "#                 'gr_liv_area_scaled_mm',\n",
    "#                 'tot_rooms_gr_gr_liv_area', \n",
    "#                 'tot_rooms_gr_bedroom_gr',\n",
    "#                 'full_bath_gr_liv_area', \n",
    "                'gar_car_size_overall_qual',\n",
    "#                 'yr_built_overall_qual', \n",
    "                'full_bath_gr_liv_area_log',\n",
    "#                 'tot_rooms_gr_bedroom_gr_log', \n",
    "#                 'lot_area_scaled_mm_log',\n",
    "#                 'gr_liv_area_scaled_mm_log', \n",
    "                'bsmt_fin_1_sf_scaled_mm_log',\n",
    "                'bsmt_fin_2_sf_scaled_mm_log',\n",
    "                'bsmt_sf_scaled_mm_log',\n",
    "                'bedrooms_gr_shift_log', \n",
    "#                 'tot_rooms_gr_log',\n",
    "                'tot_rooms_gr_gr_liv_area_log',\n",
    "                  'lot_area_log',\n",
    "                  'gr_liv_area_log',\n",
    "#                   'mas_vnr_type',\n",
    "                  'bsmt_baths',\n",
    "#                   'bsmt_full_bath',\n",
    "#                   'bsmt_half_bath',\n",
    "                  'functional',\n",
    "                  'porch_sf'\n",
    "               ]\n",
    "\n",
    "    # https://pandas.pydata.org/pandas-docs/stable/reference/api/pandas.DataFrame.select_dtypes.html\n",
    "    dummies_columns = list(df[X_features].select_dtypes(include='object'))\n",
    "    \n",
    "    if 'sale_price' not in df.columns:\n",
    "        X_test = df[X_features]\n",
    "        X_test = pd.get_dummies(data=X_test, columns=dummies_columns, drop_first=True)\n",
    "        return X_test\n",
    "    else:\n",
    "        X_train = df[X_features]\n",
    "        X_train = pd.get_dummies(data=X_train, columns=dummies_columns, drop_first=True)\n",
    "        return X_train\n",
    "\n",
    "y = df_train['sale_price']"
   ]
  },
  {
   "cell_type": "code",
   "execution_count": 5,
   "metadata": {},
   "outputs": [],
   "source": [
    "X_train_df = feat_sel(df_train)\n",
    "X_test_df = feat_sel(df_test)"
   ]
  },
  {
   "cell_type": "code",
   "execution_count": 6,
   "metadata": {},
   "outputs": [],
   "source": [
    "X_train, X_validation, y_train, y_validation = train_test_split(X_train_df, y, random_state=42)\n",
    "\n",
    "y_train_log = y_train.map(np.log)\n",
    "y_validation_log = y_validation.map(np.log)"
   ]
  },
  {
   "cell_type": "code",
   "execution_count": 7,
   "metadata": {},
   "outputs": [
    {
     "data": {
      "text/plain": [
       "LinearRegression()"
      ]
     },
     "execution_count": 7,
     "metadata": {},
     "output_type": "execute_result"
    }
   ],
   "source": [
    "lr = LinearRegression()\n",
    "lr.fit(X_train, y_train_log)"
   ]
  },
  {
   "cell_type": "code",
   "execution_count": null,
   "metadata": {},
   "outputs": [],
   "source": []
  },
  {
   "cell_type": "code",
   "execution_count": 8,
   "metadata": {},
   "outputs": [],
   "source": [
    "pred = lr.predict(X_train)\n",
    "residuals = y_train_log - pred"
   ]
  },
  {
   "cell_type": "code",
   "execution_count": 9,
   "metadata": {},
   "outputs": [
    {
     "data": {
      "text/plain": [
       "0.10525809583336383"
      ]
     },
     "execution_count": 9,
     "metadata": {},
     "output_type": "execute_result"
    }
   ],
   "source": [
    "mse_train = metrics.mean_squared_error(y_train_log, pred)\n",
    "mse_train   # Compare to mse_validation to see if model is overfit\n",
    "np.sqrt(mse_train)   # Use this to compare model to model, not representative of $"
   ]
  },
  {
   "cell_type": "code",
   "execution_count": 10,
   "metadata": {},
   "outputs": [],
   "source": [
    "validation_pred = lr.predict(X_validation)"
   ]
  },
  {
   "cell_type": "code",
   "execution_count": 11,
   "metadata": {},
   "outputs": [
    {
     "data": {
      "text/plain": [
       "0.12563907148032233"
      ]
     },
     "execution_count": 11,
     "metadata": {},
     "output_type": "execute_result"
    }
   ],
   "source": [
    "mse_validation = metrics.mean_squared_error(y_validation_log, validation_pred)\n",
    "mse_validation   # Use this the compare model to model resulting MSE score\n",
    "np.sqrt(mse_validation)   # Use this the compare model to model resulting RMSE score"
   ]
  },
  {
   "cell_type": "code",
   "execution_count": null,
   "metadata": {},
   "outputs": [],
   "source": []
  },
  {
   "cell_type": "code",
   "execution_count": 12,
   "metadata": {},
   "outputs": [
    {
     "data": {
      "text/plain": [
       "0.934484660121606"
      ]
     },
     "execution_count": 12,
     "metadata": {},
     "output_type": "execute_result"
    }
   ],
   "source": [
    "# R2 training score, closer to 1 the better\n",
    "\n",
    "lr.score(X_train, y_train_log)"
   ]
  },
  {
   "cell_type": "code",
   "execution_count": 13,
   "metadata": {},
   "outputs": [
    {
     "data": {
      "text/plain": [
       "0.9069839015201808"
      ]
     },
     "execution_count": 13,
     "metadata": {},
     "output_type": "execute_result"
    }
   ],
   "source": [
    "# R2 validation score, closer to 1 the better\n",
    "\n",
    "lr.score(X_validation, y_validation_log)"
   ]
  },
  {
   "cell_type": "code",
   "execution_count": 14,
   "metadata": {},
   "outputs": [
    {
     "data": {
      "image/png": "[encoded data removed]",
      "text/plain": [
       "<Figure size 432x288 with 1 Axes>"
      ]
     },
     "metadata": {
      "needs_background": "light"
     },
     "output_type": "display_data"
    }
   ],
   "source": [
    "plt.scatter(pred, residuals)\n",
    "plt.axhline(0, color='red');"
   ]
  },
  {
   "cell_type": "code",
   "execution_count": 15,
   "metadata": {},
   "outputs": [
    {
     "data": {
      "text/plain": [
       "183    -0.964736\n",
       "1308   -0.732462\n",
       "1563   -0.721342\n",
       "348    -0.623284\n",
       "508    -0.621809\n",
       "Name: sale_price, dtype: float64"
      ]
     },
     "execution_count": 15,
     "metadata": {},
     "output_type": "execute_result"
    }
   ],
   "source": [
    "residuals.sort_values().head()"
   ]
  },
  {
   "cell_type": "code",
   "execution_count": 16,
   "metadata": {},
   "outputs": [
    {
     "data": {
      "image/png": "[encoded data removed]",
      "text/plain": [
       "<Figure size 432x288 with 1 Axes>"
      ]
     },
     "metadata": {
      "needs_background": "light"
     },
     "output_type": "display_data"
    }
   ],
   "source": [
    "residuals.hist();\n",
    "plt.axvline(0, color='red');"
   ]
  },
  {
   "cell_type": "code",
   "execution_count": null,
   "metadata": {},
   "outputs": [],
   "source": []
  },
  {
   "cell_type": "code",
   "execution_count": 17,
   "metadata": {},
   "outputs": [],
   "source": [
    "SalePrice = lr.predict(X_test_df)"
   ]
  },
  {
   "cell_type": "code",
   "execution_count": 18,
   "metadata": {},
   "outputs": [],
   "source": [
    "SalePrice = np.exp(SalePrice)"
   ]
  },
  {
   "cell_type": "code",
   "execution_count": 19,
   "metadata": {},
   "outputs": [],
   "source": [
    "df_test['SalePrice'] = SalePrice"
   ]
  },
  {
   "cell_type": "code",
   "execution_count": 20,
   "metadata": {},
   "outputs": [],
   "source": [
    "jsalisbury = df_test[['Id', 'SalePrice']]"
   ]
  },
  {
   "cell_type": "code",
   "execution_count": 21,
   "metadata": {},
   "outputs": [
    {
     "data": {
      "text/html": [
       "<div>\n",
       "<style scoped>\n",
       "    .dataframe tbody tr th:only-of-type {\n",
       "        vertical-align: middle;\n",
       "    }\n",
       "\n",
       "    .dataframe tbody tr th {\n",
       "        vertical-align: top;\n",
       "    }\n",
       "\n",
       "    .dataframe thead th {\n",
       "        text-align: right;\n",
       "    }\n",
       "</style>\n",
       "<table border=\"1\" class=\"dataframe\">\n",
       "  <thead>\n",
       "    <tr style=\"text-align: right;\">\n",
       "      <th></th>\n",
       "      <th>Id</th>\n",
       "      <th>SalePrice</th>\n",
       "    </tr>\n",
       "  </thead>\n",
       "  <tbody>\n",
       "    <tr>\n",
       "      <th>0</th>\n",
       "      <td>2658</td>\n",
       "      <td>112200.256109</td>\n",
       "    </tr>\n",
       "    <tr>\n",
       "      <th>1</th>\n",
       "      <td>2718</td>\n",
       "      <td>160091.438449</td>\n",
       "    </tr>\n",
       "    <tr>\n",
       "      <th>2</th>\n",
       "      <td>2414</td>\n",
       "      <td>217090.267001</td>\n",
       "    </tr>\n",
       "    <tr>\n",
       "      <th>3</th>\n",
       "      <td>1989</td>\n",
       "      <td>107688.922226</td>\n",
       "    </tr>\n",
       "    <tr>\n",
       "      <th>4</th>\n",
       "      <td>625</td>\n",
       "      <td>164634.016214</td>\n",
       "    </tr>\n",
       "  </tbody>\n",
       "</table>\n",
       "</div>"
      ],
      "text/plain": [
       "     Id      SalePrice\n",
       "0  2658  112200.256109\n",
       "1  2718  160091.438449\n",
       "2  2414  217090.267001\n",
       "3  1989  107688.922226\n",
       "4   625  164634.016214"
      ]
     },
     "execution_count": 21,
     "metadata": {},
     "output_type": "execute_result"
    }
   ],
   "source": [
    "jsalisbury.head()"
   ]
  },
  {
   "cell_type": "code",
   "execution_count": 22,
   "metadata": {},
   "outputs": [],
   "source": [
    "# jsalisbury.to_csv('./datasets/submissions/jsalisbury_61.csv', index=False)"
   ]
  }
 ],
 "metadata": {
  "kernelspec": {
   "display_name": "Python 3",
   "language": "python",
   "name": "python3"
  },
  "language_info": {
   "codemirror_mode": {
    "name": "ipython",
    "version": 3
   },
   "file_extension": ".py",
   "mimetype": "text/x-python",
   "name": "python",
   "nbconvert_exporter": "python",
   "pygments_lexer": "ipython3",
   "version": "3.8.3"
  }
 },
 "nbformat": 4,
 "nbformat_minor": 4
}
